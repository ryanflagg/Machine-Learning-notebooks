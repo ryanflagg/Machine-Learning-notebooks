{
 "cells": [
  {
   "cell_type": "markdown",
   "id": "e802b441",
   "metadata": {},
   "source": [
    "<h1>ENB27: revisiting FFNs</h1>"
   ]
  },
  {
   "cell_type": "code",
   "execution_count": 1,
   "id": "a8faeda6",
   "metadata": {},
   "outputs": [
    {
     "name": "stderr",
     "output_type": "stream",
     "text": [
      "Using TensorFlow backend.\n"
     ]
    }
   ],
   "source": [
    "import tensorflow as tf\n",
    "import keras\n",
    "from keras import models\n",
    "from keras import layers\n",
    "\n",
    "import numpy as np\n",
    "import os\n",
    "import csv\n",
    "\n",
    "import pickle\n",
    "import time\n",
    "\n",
    "import matplotlib.pyplot as plt\n",
    "import pre_process as pp"
   ]
  },
  {
   "cell_type": "markdown",
   "id": "777dbd3f",
   "metadata": {},
   "source": [
    "<h2>Pre-processing</h2>"
   ]
  },
  {
   "cell_type": "code",
   "execution_count": 2,
   "id": "889800ae",
   "metadata": {},
   "outputs": [
    {
     "name": "stdout",
     "output_type": "stream",
     "text": [
      "concatenating files\n",
      "AReMv1\\bending1\\dataset1.csv\n",
      "AReMv1\\bending1\\dataset2.csv\n",
      "AReMv1\\bending1\\dataset3.csv\n",
      "AReMv1\\bending1\\dataset4.csv\n",
      "AReMv1\\bending1\\dataset5.csv\n",
      "AReMv1\\bending1\\dataset6.csv\n",
      "AReMv1\\bending1\\dataset7.csv\n",
      "AReMv1\\bending2\\dataset1.csv\n",
      "AReMv1\\bending2\\dataset2.csv\n",
      "AReMv1\\bending2\\dataset3.csv\n",
      "AReMv1\\bending2\\dataset5.csv\n",
      "AReMv1\\bending2\\dataset6.csv\n",
      "AReMv1\\cycling\\dataset1.csv\n",
      "AReMv1\\cycling\\dataset10.csv\n",
      "AReMv1\\cycling\\dataset11.csv\n",
      "AReMv1\\cycling\\dataset12.csv\n",
      "AReMv1\\cycling\\dataset13.csv\n",
      "AReMv1\\cycling\\dataset14.csv\n",
      "AReMv1\\cycling\\dataset15.csv\n",
      "AReMv1\\cycling\\dataset2.csv\n",
      "AReMv1\\cycling\\dataset3.csv\n",
      "AReMv1\\cycling\\dataset4.csv\n",
      "AReMv1\\cycling\\dataset5.csv\n",
      "AReMv1\\cycling\\dataset6.csv\n",
      "AReMv1\\cycling\\dataset7.csv\n",
      "AReMv1\\cycling\\dataset8.csv\n",
      "AReMv1\\cycling\\dataset9.csv\n",
      "AReMv1\\lying\\dataset1.csv\n",
      "AReMv1\\lying\\dataset10.csv\n",
      "AReMv1\\lying\\dataset11.csv\n",
      "AReMv1\\lying\\dataset12.csv\n",
      "AReMv1\\lying\\dataset13.csv\n",
      "AReMv1\\lying\\dataset14.csv\n",
      "AReMv1\\lying\\dataset15.csv\n",
      "AReMv1\\lying\\dataset2.csv\n",
      "AReMv1\\lying\\dataset3.csv\n",
      "AReMv1\\lying\\dataset4.csv\n",
      "AReMv1\\lying\\dataset5.csv\n",
      "AReMv1\\lying\\dataset6.csv\n",
      "AReMv1\\lying\\dataset7.csv\n",
      "AReMv1\\lying\\dataset8.csv\n",
      "AReMv1\\lying\\dataset9.csv\n",
      "AReMv1\\sitting\\dataset1.csv\n",
      "AReMv1\\sitting\\dataset10.csv\n",
      "AReMv1\\sitting\\dataset11.csv\n",
      "AReMv1\\sitting\\dataset12.csv\n",
      "AReMv1\\sitting\\dataset13.csv\n",
      "AReMv1\\sitting\\dataset14.csv\n",
      "AReMv1\\sitting\\dataset15.csv\n",
      "AReMv1\\sitting\\dataset2.csv\n",
      "AReMv1\\sitting\\dataset3.csv\n",
      "AReMv1\\sitting\\dataset4.csv\n",
      "AReMv1\\sitting\\dataset5.csv\n",
      "AReMv1\\sitting\\dataset6.csv\n",
      "AReMv1\\sitting\\dataset7.csv\n",
      "AReMv1\\sitting\\dataset8.csv\n",
      "AReMv1\\sitting\\dataset9.csv\n",
      "AReMv1\\standing\\dataset1.csv\n",
      "AReMv1\\standing\\dataset10.csv\n",
      "AReMv1\\standing\\dataset11.csv\n",
      "AReMv1\\standing\\dataset12.csv\n",
      "AReMv1\\standing\\dataset13.csv\n",
      "AReMv1\\standing\\dataset14.csv\n",
      "AReMv1\\standing\\dataset15.csv\n",
      "AReMv1\\standing\\dataset2.csv\n",
      "AReMv1\\standing\\dataset3.csv\n",
      "AReMv1\\standing\\dataset4.csv\n",
      "AReMv1\\standing\\dataset5.csv\n",
      "AReMv1\\standing\\dataset6.csv\n",
      "AReMv1\\standing\\dataset7.csv\n",
      "AReMv1\\standing\\dataset8.csv\n",
      "AReMv1\\standing\\dataset9.csv\n",
      "AReMv1\\walking\\dataset1.csv\n",
      "AReMv1\\walking\\dataset10.csv\n",
      "AReMv1\\walking\\dataset11.csv\n",
      "AReMv1\\walking\\dataset12.csv\n",
      "AReMv1\\walking\\dataset13.csv\n",
      "AReMv1\\walking\\dataset14.csv\n",
      "AReMv1\\walking\\dataset15.csv\n",
      "AReMv1\\walking\\dataset2.csv\n",
      "AReMv1\\walking\\dataset3.csv\n",
      "AReMv1\\walking\\dataset4.csv\n",
      "AReMv1\\walking\\dataset5.csv\n",
      "AReMv1\\walking\\dataset6.csv\n",
      "AReMv1\\walking\\dataset7.csv\n",
      "AReMv1\\walking\\dataset8.csv\n",
      "AReMv1\\walking\\dataset9.csv\n",
      "Tokenising labels\n",
      "bending1 = 0\n",
      "bending1 = 0\n",
      "bending1 = 0\n",
      "bending1 = 0\n",
      "bending1 = 0\n",
      "bending1 = 0\n",
      "bending1 = 0\n",
      "bending2 = 1\n",
      "bending2 = 1\n",
      "bending2 = 1\n",
      "bending2 = 1\n",
      "bending2 = 1\n",
      "cycling = 2\n",
      "cycling = 2\n",
      "cycling = 2\n",
      "cycling = 2\n",
      "cycling = 2\n",
      "cycling = 2\n",
      "cycling = 2\n",
      "cycling = 2\n",
      "cycling = 2\n",
      "cycling = 2\n",
      "cycling = 2\n",
      "cycling = 2\n",
      "cycling = 2\n",
      "cycling = 2\n",
      "cycling = 2\n",
      "lying = 3\n",
      "lying = 3\n",
      "lying = 3\n",
      "lying = 3\n",
      "lying = 3\n",
      "lying = 3\n",
      "lying = 3\n",
      "lying = 3\n",
      "lying = 3\n",
      "lying = 3\n",
      "lying = 3\n",
      "lying = 3\n",
      "lying = 3\n",
      "lying = 3\n",
      "lying = 3\n",
      "sitting = 4\n",
      "sitting = 4\n",
      "sitting = 4\n",
      "sitting = 4\n",
      "sitting = 4\n",
      "sitting = 4\n",
      "sitting = 4\n",
      "sitting = 4\n",
      "sitting = 4\n",
      "sitting = 4\n",
      "sitting = 4\n",
      "sitting = 4\n",
      "sitting = 4\n",
      "sitting = 4\n",
      "sitting = 4\n",
      "standing = 5\n",
      "standing = 5\n",
      "standing = 5\n",
      "standing = 5\n",
      "standing = 5\n",
      "standing = 5\n",
      "standing = 5\n",
      "standing = 5\n",
      "standing = 5\n",
      "standing = 5\n",
      "standing = 5\n",
      "standing = 5\n",
      "standing = 5\n",
      "standing = 5\n",
      "standing = 5\n",
      "walking = 6\n",
      "walking = 6\n",
      "walking = 6\n",
      "walking = 6\n",
      "walking = 6\n",
      "walking = 6\n",
      "walking = 6\n",
      "walking = 6\n",
      "walking = 6\n",
      "walking = 6\n",
      "walking = 6\n",
      "walking = 6\n",
      "walking = 6\n",
      "walking = 6\n",
      "walking = 6\n",
      "data shape:\n",
      "(87, 480, 6)\n",
      "labels shape:\n",
      "(87,)\n"
     ]
    }
   ],
   "source": [
    "data, labels = pp.pre_process()"
   ]
  },
  {
   "cell_type": "code",
   "execution_count": 3,
   "id": "d799f419",
   "metadata": {},
   "outputs": [
    {
     "name": "stdout",
     "output_type": "stream",
     "text": [
      "SHUFFLING ARRAYS\n",
      "act0 shape:  (7, 480, 6)\n",
      "act1 shape:  (5, 480, 6)\n",
      "act2 shape:  (15, 480, 6)\n",
      "act3 shape:  (15, 480, 6)\n",
      "act4 shape:  (15, 480, 6)\n",
      "act5 shape:  (15, 480, 6)\n",
      "act6 shape:  (15, 480, 6)\n",
      "SLICING ARRAYS\n",
      "(4, 480, 6)\n",
      "(2, 480, 6)\n",
      "(1, 480, 6)\n"
     ]
    }
   ],
   "source": [
    "train_data, train_labels, val_data, val_labels, test_data, test_labels = pp.cluster_shuffle(data, labels)"
   ]
  },
  {
   "cell_type": "markdown",
   "id": "d44a5676",
   "metadata": {},
   "source": [
    "best perfoming ffn with flatten after input layer."
   ]
  },
  {
   "cell_type": "code",
   "execution_count": 13,
   "id": "dd18b647",
   "metadata": {},
   "outputs": [
    {
     "name": "stdout",
     "output_type": "stream",
     "text": [
      "Model: \"sequential_6\"\n",
      "_________________________________________________________________\n",
      "Layer (type)                 Output Shape              Param #   \n",
      "=================================================================\n",
      "dense_18 (Dense)             (None, 480, 480)          3360      \n",
      "_________________________________________________________________\n",
      "flatten_5 (Flatten)          (None, 230400)            0         \n",
      "_________________________________________________________________\n",
      "dense_19 (Dense)             (None, 480)               110592480 \n",
      "_________________________________________________________________\n",
      "dense_20 (Dense)             (None, 480)               230880    \n",
      "_________________________________________________________________\n",
      "dense_21 (Dense)             (None, 7)                 3367      \n",
      "=================================================================\n",
      "Total params: 110,830,087\n",
      "Trainable params: 110,830,087\n",
      "Non-trainable params: 0\n",
      "_________________________________________________________________\n"
     ]
    }
   ],
   "source": [
    "net1 = models.Sequential()\n",
    "net1.add(layers.Dense((480), input_shape = (480,6)))\n",
    "net1.add(layers.Flatten())\n",
    "net1.add(layers.Dense(480,activation='relu'))\n",
    "net1.add(layers.Dense(480, activation = 'relu'))\n",
    "net1.add(layers.Dense(7, activation = 'softmax'))\n",
    "net1.summary()"
   ]
  },
  {
   "cell_type": "code",
   "execution_count": 14,
   "id": "fe79b939",
   "metadata": {},
   "outputs": [
    {
     "name": "stdout",
     "output_type": "stream",
     "text": [
      "Train on 52 samples, validate on 18 samples\n",
      "Epoch 1/30\n",
      "52/52 [==============================] - 3s 59ms/step - loss: 7.3962 - accuracy: 0.0577 - val_loss: 14.2274 - val_accuracy: 0.1667\n",
      "Epoch 2/30\n",
      "52/52 [==============================] - 3s 57ms/step - loss: 15.2033 - accuracy: 0.1923 - val_loss: 13.1911 - val_accuracy: 0.1667\n",
      "Epoch 3/30\n",
      "52/52 [==============================] - 3s 57ms/step - loss: 12.0327 - accuracy: 0.1346 - val_loss: 7.1116 - val_accuracy: 0.1667\n",
      "Epoch 4/30\n",
      "52/52 [==============================] - 3s 57ms/step - loss: 5.7168 - accuracy: 0.2692 - val_loss: 6.2686 - val_accuracy: 0.1667\n",
      "Epoch 5/30\n",
      "52/52 [==============================] - 3s 56ms/step - loss: 4.7445 - accuracy: 0.2308 - val_loss: 5.7950 - val_accuracy: 0.1667\n",
      "Epoch 6/30\n",
      "52/52 [==============================] - 3s 56ms/step - loss: 4.9275 - accuracy: 0.3269 - val_loss: 4.2176 - val_accuracy: 0.1667\n",
      "Epoch 7/30\n",
      "52/52 [==============================] - 3s 57ms/step - loss: 2.7849 - accuracy: 0.4231 - val_loss: 2.0351 - val_accuracy: 0.3889\n",
      "Epoch 8/30\n",
      "52/52 [==============================] - 3s 57ms/step - loss: 1.4405 - accuracy: 0.4615 - val_loss: 1.5770 - val_accuracy: 0.4444\n",
      "Epoch 9/30\n",
      "52/52 [==============================] - 3s 58ms/step - loss: 1.2340 - accuracy: 0.5192 - val_loss: 1.5527 - val_accuracy: 0.3333\n",
      "Epoch 10/30\n",
      "52/52 [==============================] - 3s 57ms/step - loss: 1.0788 - accuracy: 0.5577 - val_loss: 1.2020 - val_accuracy: 0.4444\n",
      "Epoch 11/30\n",
      "52/52 [==============================] - 3s 57ms/step - loss: 0.7194 - accuracy: 0.6731 - val_loss: 1.2171 - val_accuracy: 0.5556\n",
      "Epoch 12/30\n",
      "52/52 [==============================] - 3s 57ms/step - loss: 0.7355 - accuracy: 0.7500 - val_loss: 1.0429 - val_accuracy: 0.4444\n",
      "Epoch 13/30\n",
      "52/52 [==============================] - 3s 57ms/step - loss: 0.5200 - accuracy: 0.7500 - val_loss: 0.7200 - val_accuracy: 0.7778\n",
      "Epoch 14/30\n",
      "52/52 [==============================] - 3s 58ms/step - loss: 0.4632 - accuracy: 0.8654 - val_loss: 0.6544 - val_accuracy: 0.6667\n",
      "Epoch 15/30\n",
      "52/52 [==============================] - 3s 57ms/step - loss: 0.3344 - accuracy: 0.9038 - val_loss: 0.6094 - val_accuracy: 0.8333\n",
      "Epoch 16/30\n",
      "52/52 [==============================] - 3s 56ms/step - loss: 0.2778 - accuracy: 0.9231 - val_loss: 0.6887 - val_accuracy: 0.8333\n",
      "Epoch 17/30\n",
      "52/52 [==============================] - 3s 56ms/step - loss: 0.2736 - accuracy: 0.8846 - val_loss: 0.5635 - val_accuracy: 0.7778\n",
      "Epoch 18/30\n",
      "52/52 [==============================] - 3s 57ms/step - loss: 0.1698 - accuracy: 0.9808 - val_loss: 0.4933 - val_accuracy: 0.7778\n",
      "Epoch 19/30\n",
      "52/52 [==============================] - 3s 57ms/step - loss: 0.1492 - accuracy: 0.9615 - val_loss: 0.4619 - val_accuracy: 0.8333\n",
      "Epoch 20/30\n",
      "52/52 [==============================] - 3s 57ms/step - loss: 0.1237 - accuracy: 1.0000 - val_loss: 0.4792 - val_accuracy: 0.7778\n",
      "Epoch 21/30\n",
      "52/52 [==============================] - 3s 56ms/step - loss: 0.1078 - accuracy: 1.0000 - val_loss: 0.5137 - val_accuracy: 0.7778\n",
      "Epoch 22/30\n",
      "52/52 [==============================] - 3s 58ms/step - loss: 0.0925 - accuracy: 1.0000 - val_loss: 0.4630 - val_accuracy: 0.8333\n",
      "Epoch 23/30\n",
      "52/52 [==============================] - 3s 57ms/step - loss: 0.0742 - accuracy: 1.0000 - val_loss: 0.4089 - val_accuracy: 0.8333\n",
      "Epoch 24/30\n",
      "52/52 [==============================] - 3s 57ms/step - loss: 0.0643 - accuracy: 1.0000 - val_loss: 0.4018 - val_accuracy: 0.8333\n",
      "Epoch 25/30\n",
      "52/52 [==============================] - 3s 57ms/step - loss: 0.0525 - accuracy: 1.0000 - val_loss: 0.3998 - val_accuracy: 0.8889\n",
      "Epoch 26/30\n",
      "52/52 [==============================] - 3s 57ms/step - loss: 0.0439 - accuracy: 1.0000 - val_loss: 0.3866 - val_accuracy: 0.8889\n",
      "Epoch 27/30\n",
      "52/52 [==============================] - 3s 57ms/step - loss: 0.0382 - accuracy: 1.0000 - val_loss: 0.3899 - val_accuracy: 0.8889\n",
      "Epoch 28/30\n",
      "52/52 [==============================] - 3s 56ms/step - loss: 0.0312 - accuracy: 1.0000 - val_loss: 0.4149 - val_accuracy: 0.8889\n",
      "Epoch 29/30\n",
      "52/52 [==============================] - 3s 57ms/step - loss: 0.0247 - accuracy: 1.0000 - val_loss: 0.4032 - val_accuracy: 0.8889\n",
      "Epoch 30/30\n",
      "52/52 [==============================] - 3s 58ms/step - loss: 0.0201 - accuracy: 1.0000 - val_loss: 0.3903 - val_accuracy: 0.8889\n"
     ]
    }
   ],
   "source": [
    "net1.compile(optimizer = 'adam', loss = 'sparse_categorical_crossentropy', metrics = ['accuracy'])\n",
    "hist = net1.fit(train_data, train_labels, epochs = 30, validation_data = (val_data, val_labels))"
   ]
  },
  {
   "cell_type": "code",
   "execution_count": 15,
   "id": "dcfcf90e",
   "metadata": {},
   "outputs": [
    {
     "name": "stdout",
     "output_type": "stream",
     "text": [
      "17/17 [==============================] - 0s 2ms/step\n",
      "[0.6845356225967407, 0.8235294222831726]\n"
     ]
    }
   ],
   "source": [
    "test_results = net1.evaluate(test_data, test_labels)\n",
    "print(test_results)"
   ]
  },
  {
   "cell_type": "code",
   "execution_count": 18,
   "id": "7ee66f18",
   "metadata": {},
   "outputs": [
    {
     "data": {
      "image/png": "[encoded data removed]",
      "text/plain": [
       "<Figure size 432x288 with 1 Axes>"
      ]
     },
     "metadata": {
      "needs_background": "light"
     },
     "output_type": "display_data"
    }
   ],
   "source": [
    "pp.plot_loss(hist)"
   ]
  },
  {
   "cell_type": "code",
   "execution_count": 17,
   "id": "4bd74892",
   "metadata": {},
   "outputs": [
    {
     "data": {
      "image/png": "[encoded data removed]",
      "text/plain": [
       "<Figure size 432x288 with 1 Axes>"
      ]
     },
     "metadata": {
      "needs_background": "light"
     },
     "output_type": "display_data"
    }
   ],
   "source": [
    "pp.plot_accuracy(hist)"
   ]
  },
  {
   "cell_type": "markdown",
   "id": "95a73ec8",
   "metadata": {},
   "source": [
    "now try with drop out"
   ]
  },
  {
   "cell_type": "code",
   "execution_count": 22,
   "id": "78088926",
   "metadata": {},
   "outputs": [
    {
     "name": "stdout",
     "output_type": "stream",
     "text": [
      "Model: \"sequential_9\"\n",
      "_________________________________________________________________\n",
      "Layer (type)                 Output Shape              Param #   \n",
      "=================================================================\n",
      "dense_26 (Dense)             (None, 480, 480)          3360      \n",
      "_________________________________________________________________\n",
      "flatten_7 (Flatten)          (None, 230400)            0         \n",
      "_________________________________________________________________\n",
      "dropout_2 (Dropout)          (None, 230400)            0         \n",
      "_________________________________________________________________\n",
      "dense_27 (Dense)             (None, 480)               110592480 \n",
      "_________________________________________________________________\n",
      "dense_28 (Dense)             (None, 480)               230880    \n",
      "_________________________________________________________________\n",
      "dense_29 (Dense)             (None, 7)                 3367      \n",
      "=================================================================\n",
      "Total params: 110,830,087\n",
      "Trainable params: 110,830,087\n",
      "Non-trainable params: 0\n",
      "_________________________________________________________________\n"
     ]
    }
   ],
   "source": [
    "net2 = models.Sequential()\n",
    "net2.add(layers.Dense((480), input_shape = (480,6)))\n",
    "net2.add(layers.Flatten())\n",
    "net2.add(layers.Dropout(0.2))\n",
    "net2.add(layers.Dense(480,activation='relu'))\n",
    "net2.add(layers.Dense(480, activation = 'relu'))\n",
    "net2.add(layers.Dense(7, activation = 'softmax'))\n",
    "net2.summary()"
   ]
  },
  {
   "cell_type": "code",
   "execution_count": 23,
   "id": "1e0b59ea",
   "metadata": {},
   "outputs": [
    {
     "name": "stdout",
     "output_type": "stream",
     "text": [
      "Train on 52 samples, validate on 18 samples\n",
      "Epoch 1/100\n",
      "52/52 [==============================] - 3s 63ms/step - loss: 9.0489 - accuracy: 0.1154 - val_loss: 21.0149 - val_accuracy: 0.1667\n",
      "Epoch 2/100\n",
      "52/52 [==============================] - 3s 58ms/step - loss: 21.8923 - accuracy: 0.0962 - val_loss: 22.0692 - val_accuracy: 0.1667\n",
      "Epoch 3/100\n",
      "52/52 [==============================] - 3s 58ms/step - loss: 21.0478 - accuracy: 0.1923 - val_loss: 10.6855 - val_accuracy: 0.2778\n",
      "Epoch 4/100\n",
      "52/52 [==============================] - 3s 59ms/step - loss: 9.3724 - accuracy: 0.2500 - val_loss: 2.1898 - val_accuracy: 0.2222\n",
      "Epoch 5/100\n",
      "52/52 [==============================] - 3s 58ms/step - loss: 2.5566 - accuracy: 0.2500 - val_loss: 4.3504 - val_accuracy: 0.3333\n",
      "Epoch 6/100\n",
      "52/52 [==============================] - 3s 58ms/step - loss: 3.0680 - accuracy: 0.3846 - val_loss: 3.4263 - val_accuracy: 0.3333\n",
      "Epoch 7/100\n",
      "52/52 [==============================] - 3s 58ms/step - loss: 2.5663 - accuracy: 0.3654 - val_loss: 2.3192 - val_accuracy: 0.6111\n",
      "Epoch 8/100\n",
      "52/52 [==============================] - 3s 60ms/step - loss: 1.9642 - accuracy: 0.6538 - val_loss: 1.6664 - val_accuracy: 0.6667\n",
      "Epoch 9/100\n",
      "52/52 [==============================] - 3s 58ms/step - loss: 1.3402 - accuracy: 0.7692 - val_loss: 0.9376 - val_accuracy: 0.5000\n",
      "Epoch 10/100\n",
      "52/52 [==============================] - 3s 56ms/step - loss: 0.7204 - accuracy: 0.7500 - val_loss: 1.1639 - val_accuracy: 0.4444\n",
      "Epoch 11/100\n",
      "52/52 [==============================] - 3s 57ms/step - loss: 0.8066 - accuracy: 0.5962 - val_loss: 1.2584 - val_accuracy: 0.3333\n",
      "Epoch 12/100\n",
      "52/52 [==============================] - 3s 58ms/step - loss: 0.6154 - accuracy: 0.8654 - val_loss: 0.7810 - val_accuracy: 0.7778\n",
      "Epoch 13/100\n",
      "52/52 [==============================] - 3s 56ms/step - loss: 0.4124 - accuracy: 0.8654 - val_loss: 0.7618 - val_accuracy: 0.5000\n",
      "Epoch 14/100\n",
      "52/52 [==============================] - 3s 56ms/step - loss: 0.3577 - accuracy: 0.9423 - val_loss: 0.7765 - val_accuracy: 0.6667\n",
      "Epoch 15/100\n",
      "52/52 [==============================] - 3s 55ms/step - loss: 0.3516 - accuracy: 0.8654 - val_loss: 0.6395 - val_accuracy: 0.7222\n",
      "Epoch 16/100\n",
      "52/52 [==============================] - 3s 55ms/step - loss: 0.2612 - accuracy: 0.9423 - val_loss: 0.5328 - val_accuracy: 0.8333\n",
      "Epoch 17/100\n",
      "52/52 [==============================] - 3s 56ms/step - loss: 0.2342 - accuracy: 0.9423 - val_loss: 0.5343 - val_accuracy: 0.9444\n",
      "Epoch 18/100\n",
      "52/52 [==============================] - 3s 55ms/step - loss: 0.1707 - accuracy: 0.9808 - val_loss: 0.6631 - val_accuracy: 0.8333\n",
      "Epoch 19/100\n",
      "52/52 [==============================] - 3s 56ms/step - loss: 0.2171 - accuracy: 0.9038 - val_loss: 0.5034 - val_accuracy: 0.8333\n",
      "Epoch 20/100\n",
      "52/52 [==============================] - 3s 55ms/step - loss: 0.1536 - accuracy: 0.9615 - val_loss: 0.4815 - val_accuracy: 0.7778\n",
      "Epoch 21/100\n",
      "52/52 [==============================] - 3s 55ms/step - loss: 0.1516 - accuracy: 0.9423 - val_loss: 0.5686 - val_accuracy: 0.7778\n",
      "Epoch 22/100\n",
      "52/52 [==============================] - 3s 57ms/step - loss: 0.1288 - accuracy: 0.9615 - val_loss: 0.6325 - val_accuracy: 0.7778\n",
      "Epoch 23/100\n",
      "52/52 [==============================] - 3s 56ms/step - loss: 0.0956 - accuracy: 0.9808 - val_loss: 0.4748 - val_accuracy: 0.8333\n",
      "Epoch 24/100\n",
      "52/52 [==============================] - 3s 55ms/step - loss: 0.0877 - accuracy: 0.9808 - val_loss: 0.3999 - val_accuracy: 0.7778\n",
      "Epoch 25/100\n",
      "52/52 [==============================] - 3s 55ms/step - loss: 0.0901 - accuracy: 0.9615 - val_loss: 0.4062 - val_accuracy: 0.8889\n",
      "Epoch 26/100\n",
      "52/52 [==============================] - 3s 55ms/step - loss: 0.0564 - accuracy: 1.0000 - val_loss: 0.5097 - val_accuracy: 0.8889\n",
      "Epoch 27/100\n",
      "52/52 [==============================] - 3s 55ms/step - loss: 0.0759 - accuracy: 0.9808 - val_loss: 0.4538 - val_accuracy: 0.8889\n",
      "Epoch 28/100\n",
      "52/52 [==============================] - 3s 56ms/step - loss: 0.0519 - accuracy: 1.0000 - val_loss: 0.3581 - val_accuracy: 0.8889\n",
      "Epoch 29/100\n",
      "52/52 [==============================] - 3s 55ms/step - loss: 0.0483 - accuracy: 1.0000 - val_loss: 0.3431 - val_accuracy: 0.8889\n",
      "Epoch 30/100\n",
      "52/52 [==============================] - 3s 55ms/step - loss: 0.0453 - accuracy: 1.0000 - val_loss: 0.3786 - val_accuracy: 0.8333\n",
      "Epoch 31/100\n",
      "52/52 [==============================] - 3s 56ms/step - loss: 0.0304 - accuracy: 1.0000 - val_loss: 0.5019 - val_accuracy: 0.8889\n",
      "Epoch 32/100\n",
      "52/52 [==============================] - 3s 55ms/step - loss: 0.0479 - accuracy: 1.0000 - val_loss: 0.4603 - val_accuracy: 0.8889\n",
      "Epoch 33/100\n",
      "52/52 [==============================] - 3s 56ms/step - loss: 0.0239 - accuracy: 1.0000 - val_loss: 0.3384 - val_accuracy: 0.8889\n",
      "Epoch 34/100\n",
      "52/52 [==============================] - 3s 56ms/step - loss: 0.0256 - accuracy: 1.0000 - val_loss: 0.3108 - val_accuracy: 0.8333\n",
      "Epoch 35/100\n",
      "52/52 [==============================] - 3s 56ms/step - loss: 0.0337 - accuracy: 1.0000 - val_loss: 0.3272 - val_accuracy: 0.8889\n",
      "Epoch 36/100\n",
      "52/52 [==============================] - 3s 55ms/step - loss: 0.0196 - accuracy: 1.0000 - val_loss: 0.4046 - val_accuracy: 0.8889\n",
      "Epoch 37/100\n",
      "52/52 [==============================] - 3s 55ms/step - loss: 0.0150 - accuracy: 1.0000 - val_loss: 0.4588 - val_accuracy: 0.8889\n",
      "Epoch 38/100\n",
      "52/52 [==============================] - 3s 55ms/step - loss: 0.0193 - accuracy: 1.0000 - val_loss: 0.4253 - val_accuracy: 0.8889\n",
      "Epoch 39/100\n",
      "52/52 [==============================] - 3s 56ms/step - loss: 0.0118 - accuracy: 1.0000 - val_loss: 0.3360 - val_accuracy: 0.8889\n",
      "Epoch 40/100\n",
      "52/52 [==============================] - 3s 56ms/step - loss: 0.0108 - accuracy: 1.0000 - val_loss: 0.2990 - val_accuracy: 0.9444\n",
      "Epoch 41/100\n",
      "52/52 [==============================] - 3s 56ms/step - loss: 0.0138 - accuracy: 1.0000 - val_loss: 0.3007 - val_accuracy: 0.8889\n",
      "Epoch 42/100\n",
      "52/52 [==============================] - 3s 56ms/step - loss: 0.0114 - accuracy: 1.0000 - val_loss: 0.3349 - val_accuracy: 0.8889\n",
      "Epoch 43/100\n",
      "52/52 [==============================] - 3s 56ms/step - loss: 0.0079 - accuracy: 1.0000 - val_loss: 0.3976 - val_accuracy: 0.8889\n",
      "Epoch 44/100\n",
      "52/52 [==============================] - 3s 56ms/step - loss: 0.0074 - accuracy: 1.0000 - val_loss: 0.4440 - val_accuracy: 0.8889\n",
      "Epoch 45/100\n",
      "52/52 [==============================] - 3s 57ms/step - loss: 0.0083 - accuracy: 1.0000 - val_loss: 0.4385 - val_accuracy: 0.8889\n",
      "Epoch 46/100\n",
      "52/52 [==============================] - 3s 57ms/step - loss: 0.0071 - accuracy: 1.0000 - val_loss: 0.3994 - val_accuracy: 0.8889\n",
      "Epoch 47/100\n",
      "52/52 [==============================] - 3s 56ms/step - loss: 0.0056 - accuracy: 1.0000 - val_loss: 0.3497 - val_accuracy: 0.8889\n",
      "Epoch 48/100\n",
      "52/52 [==============================] - 3s 55ms/step - loss: 0.0053 - accuracy: 1.0000 - val_loss: 0.3230 - val_accuracy: 0.9444\n",
      "Epoch 49/100\n",
      "52/52 [==============================] - 3s 55ms/step - loss: 0.0057 - accuracy: 1.0000 - val_loss: 0.3184 - val_accuracy: 0.9444\n",
      "Epoch 50/100\n",
      "52/52 [==============================] - 3s 56ms/step - loss: 0.0054 - accuracy: 1.0000 - val_loss: 0.3280 - val_accuracy: 0.9444\n",
      "Epoch 51/100\n",
      "52/52 [==============================] - 3s 57ms/step - loss: 0.0047 - accuracy: 1.0000 - val_loss: 0.3489 - val_accuracy: 0.8889\n",
      "Epoch 52/100\n",
      "52/52 [==============================] - 3s 56ms/step - loss: 0.0041 - accuracy: 1.0000 - val_loss: 0.3755 - val_accuracy: 0.8889\n",
      "Epoch 53/100\n",
      "52/52 [==============================] - 3s 56ms/step - loss: 0.0037 - accuracy: 1.0000 - val_loss: 0.3956 - val_accuracy: 0.8889\n",
      "Epoch 54/100\n",
      "52/52 [==============================] - 3s 56ms/step - loss: 0.0037 - accuracy: 1.0000 - val_loss: 0.4073 - val_accuracy: 0.8889\n",
      "Epoch 55/100\n",
      "52/52 [==============================] - 3s 57ms/step - loss: 0.0036 - accuracy: 1.0000 - val_loss: 0.4078 - val_accuracy: 0.8889\n",
      "Epoch 56/100\n",
      "52/52 [==============================] - 3s 58ms/step - loss: 0.0034 - accuracy: 1.0000 - val_loss: 0.3978 - val_accuracy: 0.8889\n",
      "Epoch 57/100\n",
      "52/52 [==============================] - 3s 57ms/step - loss: 0.0031 - accuracy: 1.0000 - val_loss: 0.3822 - val_accuracy: 0.8889\n",
      "Epoch 58/100\n"
     ]
    },
    {
     "name": "stdout",
     "output_type": "stream",
     "text": [
      "52/52 [==============================] - 3s 56ms/step - loss: 0.0029 - accuracy: 1.0000 - val_loss: 0.3684 - val_accuracy: 0.8889\n",
      "Epoch 59/100\n",
      "52/52 [==============================] - 3s 56ms/step - loss: 0.0028 - accuracy: 1.0000 - val_loss: 0.3637 - val_accuracy: 0.8889\n",
      "Epoch 60/100\n",
      "52/52 [==============================] - 3s 56ms/step - loss: 0.0027 - accuracy: 1.0000 - val_loss: 0.3698 - val_accuracy: 0.8889\n",
      "Epoch 61/100\n",
      "52/52 [==============================] - 3s 56ms/step - loss: 0.0026 - accuracy: 1.0000 - val_loss: 0.3807 - val_accuracy: 0.8889\n",
      "Epoch 62/100\n",
      "52/52 [==============================] - 3s 57ms/step - loss: 0.0025 - accuracy: 1.0000 - val_loss: 0.3909 - val_accuracy: 0.8889\n",
      "Epoch 63/100\n",
      "52/52 [==============================] - 3s 56ms/step - loss: 0.0023 - accuracy: 1.0000 - val_loss: 0.3928 - val_accuracy: 0.8889\n",
      "Epoch 64/100\n",
      "52/52 [==============================] - 3s 56ms/step - loss: 0.0022 - accuracy: 1.0000 - val_loss: 0.3902 - val_accuracy: 0.8889\n",
      "Epoch 65/100\n",
      "52/52 [==============================] - 3s 57ms/step - loss: 0.0021 - accuracy: 1.0000 - val_loss: 0.3851 - val_accuracy: 0.8889\n",
      "Epoch 66/100\n",
      "52/52 [==============================] - 3s 56ms/step - loss: 0.0020 - accuracy: 1.0000 - val_loss: 0.3886 - val_accuracy: 0.8889\n",
      "Epoch 67/100\n",
      "52/52 [==============================] - 3s 57ms/step - loss: 0.0019 - accuracy: 1.0000 - val_loss: 0.3964 - val_accuracy: 0.8889\n",
      "Epoch 68/100\n",
      "52/52 [==============================] - 3s 57ms/step - loss: 0.0019 - accuracy: 1.0000 - val_loss: 0.4035 - val_accuracy: 0.8889\n",
      "Epoch 69/100\n",
      "52/52 [==============================] - 3s 56ms/step - loss: 0.0018 - accuracy: 1.0000 - val_loss: 0.4032 - val_accuracy: 0.8889\n",
      "Epoch 70/100\n",
      "52/52 [==============================] - 3s 57ms/step - loss: 0.0016 - accuracy: 1.0000 - val_loss: 0.3953 - val_accuracy: 0.8889\n",
      "Epoch 71/100\n",
      "52/52 [==============================] - 3s 57ms/step - loss: 0.0016 - accuracy: 1.0000 - val_loss: 0.3872 - val_accuracy: 0.8889\n",
      "Epoch 72/100\n",
      "52/52 [==============================] - 3s 57ms/step - loss: 0.0016 - accuracy: 1.0000 - val_loss: 0.3767 - val_accuracy: 0.8889\n",
      "Epoch 73/100\n",
      "52/52 [==============================] - 3s 56ms/step - loss: 0.0015 - accuracy: 1.0000 - val_loss: 0.3746 - val_accuracy: 0.8889\n",
      "Epoch 74/100\n",
      "52/52 [==============================] - 3s 56ms/step - loss: 0.0015 - accuracy: 1.0000 - val_loss: 0.3812 - val_accuracy: 0.8889\n",
      "Epoch 75/100\n",
      "52/52 [==============================] - 3s 56ms/step - loss: 0.0014 - accuracy: 1.0000 - val_loss: 0.3946 - val_accuracy: 0.8889\n",
      "Epoch 76/100\n",
      "52/52 [==============================] - 3s 57ms/step - loss: 0.0013 - accuracy: 1.0000 - val_loss: 0.4072 - val_accuracy: 0.8889\n",
      "Epoch 77/100\n",
      "52/52 [==============================] - 3s 57ms/step - loss: 0.0013 - accuracy: 1.0000 - val_loss: 0.4102 - val_accuracy: 0.8889\n",
      "Epoch 78/100\n",
      "52/52 [==============================] - 3s 56ms/step - loss: 0.0012 - accuracy: 1.0000 - val_loss: 0.4106 - val_accuracy: 0.8889\n",
      "Epoch 79/100\n",
      "52/52 [==============================] - 3s 56ms/step - loss: 0.0012 - accuracy: 1.0000 - val_loss: 0.4108 - val_accuracy: 0.8889\n",
      "Epoch 80/100\n",
      "52/52 [==============================] - 3s 56ms/step - loss: 0.0012 - accuracy: 1.0000 - val_loss: 0.4080 - val_accuracy: 0.8889\n",
      "Epoch 81/100\n",
      "52/52 [==============================] - 3s 56ms/step - loss: 0.0011 - accuracy: 1.0000 - val_loss: 0.4045 - val_accuracy: 0.8889\n",
      "Epoch 82/100\n",
      "52/52 [==============================] - 3s 56ms/step - loss: 0.0011 - accuracy: 1.0000 - val_loss: 0.4012 - val_accuracy: 0.8889\n",
      "Epoch 83/100\n",
      "52/52 [==============================] - 3s 58ms/step - loss: 0.0010 - accuracy: 1.0000 - val_loss: 0.3984 - val_accuracy: 0.8889\n",
      "Epoch 84/100\n",
      "52/52 [==============================] - 3s 56ms/step - loss: 9.7868e-04 - accuracy: 1.0000 - val_loss: 0.4006 - val_accuracy: 0.8889\n",
      "Epoch 85/100\n",
      "52/52 [==============================] - 3s 56ms/step - loss: 9.5399e-04 - accuracy: 1.0000 - val_loss: 0.4043 - val_accuracy: 0.8889\n",
      "Epoch 86/100\n",
      "52/52 [==============================] - 3s 56ms/step - loss: 8.9822e-04 - accuracy: 1.0000 - val_loss: 0.4139 - val_accuracy: 0.8889\n",
      "Epoch 87/100\n",
      "52/52 [==============================] - 3s 56ms/step - loss: 8.5961e-04 - accuracy: 1.0000 - val_loss: 0.4247 - val_accuracy: 0.8889\n",
      "Epoch 88/100\n",
      "52/52 [==============================] - 3s 57ms/step - loss: 8.4211e-04 - accuracy: 1.0000 - val_loss: 0.4283 - val_accuracy: 0.8889\n",
      "Epoch 89/100\n",
      "52/52 [==============================] - 3s 56ms/step - loss: 8.3934e-04 - accuracy: 1.0000 - val_loss: 0.4234 - val_accuracy: 0.8889\n",
      "Epoch 90/100\n",
      "52/52 [==============================] - 3s 56ms/step - loss: 7.9343e-04 - accuracy: 1.0000 - val_loss: 0.4164 - val_accuracy: 0.8889\n",
      "Epoch 91/100\n",
      "52/52 [==============================] - 3s 56ms/step - loss: 7.5051e-04 - accuracy: 1.0000 - val_loss: 0.4124 - val_accuracy: 0.8889\n",
      "Epoch 92/100\n",
      "52/52 [==============================] - 3s 56ms/step - loss: 7.4832e-04 - accuracy: 1.0000 - val_loss: 0.4084 - val_accuracy: 0.8889\n",
      "Epoch 93/100\n",
      "52/52 [==============================] - 3s 56ms/step - loss: 7.1002e-04 - accuracy: 1.0000 - val_loss: 0.4108 - val_accuracy: 0.8889\n",
      "Epoch 94/100\n",
      "52/52 [==============================] - 3s 57ms/step - loss: 6.8638e-04 - accuracy: 1.0000 - val_loss: 0.4199 - val_accuracy: 0.8889\n",
      "Epoch 95/100\n",
      "52/52 [==============================] - 3s 56ms/step - loss: 6.6526e-04 - accuracy: 1.0000 - val_loss: 0.4272 - val_accuracy: 0.8889\n",
      "Epoch 96/100\n",
      "52/52 [==============================] - 3s 56ms/step - loss: 6.4294e-04 - accuracy: 1.0000 - val_loss: 0.4285 - val_accuracy: 0.8889\n",
      "Epoch 97/100\n",
      "52/52 [==============================] - 3s 57ms/step - loss: 6.2802e-04 - accuracy: 1.0000 - val_loss: 0.4281 - val_accuracy: 0.8889\n",
      "Epoch 98/100\n",
      "52/52 [==============================] - 3s 57ms/step - loss: 6.0236e-04 - accuracy: 1.0000 - val_loss: 0.4248 - val_accuracy: 0.8889\n",
      "Epoch 99/100\n",
      "52/52 [==============================] - 3s 57ms/step - loss: 5.7826e-04 - accuracy: 1.0000 - val_loss: 0.4249 - val_accuracy: 0.8889\n",
      "Epoch 100/100\n",
      "52/52 [==============================] - 3s 57ms/step - loss: 5.6753e-04 - accuracy: 1.0000 - val_loss: 0.4234 - val_accuracy: 0.8889\n"
     ]
    }
   ],
   "source": [
    "net2.compile(optimizer = 'adam', loss = 'sparse_categorical_crossentropy', metrics = ['accuracy'])\n",
    "hist2 = net2.fit(train_data, train_labels, epochs = 100, validation_data = (val_data, val_labels))"
   ]
  },
  {
   "cell_type": "code",
   "execution_count": 24,
   "id": "20fc4966",
   "metadata": {},
   "outputs": [
    {
     "name": "stdout",
     "output_type": "stream",
     "text": [
      "17/17 [==============================] - 0s 3ms/step\n",
      "[0.5984950661659241, 0.7647058963775635]\n"
     ]
    }
   ],
   "source": [
    "test_results = net2.evaluate(test_data, test_labels)\n",
    "print(test_results)"
   ]
  },
  {
   "cell_type": "code",
   "execution_count": 25,
   "id": "232538e1",
   "metadata": {},
   "outputs": [
    {
     "data": {
      "image/png": "[encoded data removed]",
      "text/plain": [
       "<Figure size 432x288 with 1 Axes>"
      ]
     },
     "metadata": {
      "needs_background": "light"
     },
     "output_type": "display_data"
    }
   ],
   "source": [
    "pp.plot_loss(hist2)"
   ]
  },
  {
   "cell_type": "code",
   "execution_count": 26,
   "id": "d9093609",
   "metadata": {},
   "outputs": [
    {
     "data": {
      "image/png": "[encoded data removed]",
      "text/plain": [
       "<Figure size 432x288 with 1 Axes>"
      ]
     },
     "metadata": {
      "needs_background": "light"
     },
     "output_type": "display_data"
    }
   ],
   "source": [
    "pp.plot_accuracy(hist2)"
   ]
  },
  {
   "cell_type": "code",
   "execution_count": null,
   "id": "9c2039ef",
   "metadata": {},
   "outputs": [],
   "source": []
  }
 ],
 "metadata": {
  "kernelspec": {
   "display_name": "Python 3",
   "language": "python",
   "name": "python3"
  },
  "language_info": {
   "codemirror_mode": {
    "name": "ipython",
    "version": 3
   },
   "file_extension": ".py",
   "mimetype": "text/x-python",
   "name": "python",
   "nbconvert_exporter": "python",
   "pygments_lexer": "ipython3",
   "version": "3.6.13"
  }
 },
 "nbformat": 4,
 "nbformat_minor": 5
}
