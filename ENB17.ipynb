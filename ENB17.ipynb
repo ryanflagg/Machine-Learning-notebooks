{
 "cells": [
  {
   "cell_type": "markdown",
   "metadata": {},
   "source": [
    "<h1>ENB17</h1><br>\n",
    "<h2>Deep feedforard ANNs, relu & softmax and 100 epochs</h2><br>\n",
    "neurons =  240\n",
    "layers = 2,3,4,5\n",
    "sgd & softmax\n",
    "\n",
    "im going to try reducing complexity of the networks to try to reduce the loss and improve accuracy"
   ]
  },
  {
   "cell_type": "code",
   "execution_count": 1,
   "metadata": {},
   "outputs": [
    {
     "name": "stderr",
     "output_type": "stream",
     "text": [
      "C:\\Users\\Ryan\\anaconda3\\envs\\tensorflow_env\\lib\\site-packages\\tensorflow\\python\\framework\\dtypes.py:516: FutureWarning: Passing (type, 1) or '1type' as a synonym of type is deprecated; in a future version of numpy, it will be understood as (type, (1,)) / '(1,)type'.\n",
      "  _np_qint8 = np.dtype([(\"qint8\", np.int8, 1)])\n",
      "C:\\Users\\Ryan\\anaconda3\\envs\\tensorflow_env\\lib\\site-packages\\tensorflow\\python\\framework\\dtypes.py:517: FutureWarning: Passing (type, 1) or '1type' as a synonym of type is deprecated; in a future version of numpy, it will be understood as (type, (1,)) / '(1,)type'.\n",
      "  _np_quint8 = np.dtype([(\"quint8\", np.uint8, 1)])\n",
      "C:\\Users\\Ryan\\anaconda3\\envs\\tensorflow_env\\lib\\site-packages\\tensorflow\\python\\framework\\dtypes.py:518: FutureWarning: Passing (type, 1) or '1type' as a synonym of type is deprecated; in a future version of numpy, it will be understood as (type, (1,)) / '(1,)type'.\n",
      "  _np_qint16 = np.dtype([(\"qint16\", np.int16, 1)])\n",
      "C:\\Users\\Ryan\\anaconda3\\envs\\tensorflow_env\\lib\\site-packages\\tensorflow\\python\\framework\\dtypes.py:519: FutureWarning: Passing (type, 1) or '1type' as a synonym of type is deprecated; in a future version of numpy, it will be understood as (type, (1,)) / '(1,)type'.\n",
      "  _np_quint16 = np.dtype([(\"quint16\", np.uint16, 1)])\n",
      "C:\\Users\\Ryan\\anaconda3\\envs\\tensorflow_env\\lib\\site-packages\\tensorflow\\python\\framework\\dtypes.py:520: FutureWarning: Passing (type, 1) or '1type' as a synonym of type is deprecated; in a future version of numpy, it will be understood as (type, (1,)) / '(1,)type'.\n",
      "  _np_qint32 = np.dtype([(\"qint32\", np.int32, 1)])\n",
      "C:\\Users\\Ryan\\anaconda3\\envs\\tensorflow_env\\lib\\site-packages\\tensorflow\\python\\framework\\dtypes.py:525: FutureWarning: Passing (type, 1) or '1type' as a synonym of type is deprecated; in a future version of numpy, it will be understood as (type, (1,)) / '(1,)type'.\n",
      "  np_resource = np.dtype([(\"resource\", np.ubyte, 1)])\n",
      "C:\\Users\\Ryan\\anaconda3\\envs\\tensorflow_env\\lib\\site-packages\\tensorboard\\compat\\tensorflow_stub\\dtypes.py:541: FutureWarning: Passing (type, 1) or '1type' as a synonym of type is deprecated; in a future version of numpy, it will be understood as (type, (1,)) / '(1,)type'.\n",
      "  _np_qint8 = np.dtype([(\"qint8\", np.int8, 1)])\n",
      "C:\\Users\\Ryan\\anaconda3\\envs\\tensorflow_env\\lib\\site-packages\\tensorboard\\compat\\tensorflow_stub\\dtypes.py:542: FutureWarning: Passing (type, 1) or '1type' as a synonym of type is deprecated; in a future version of numpy, it will be understood as (type, (1,)) / '(1,)type'.\n",
      "  _np_quint8 = np.dtype([(\"quint8\", np.uint8, 1)])\n",
      "C:\\Users\\Ryan\\anaconda3\\envs\\tensorflow_env\\lib\\site-packages\\tensorboard\\compat\\tensorflow_stub\\dtypes.py:543: FutureWarning: Passing (type, 1) or '1type' as a synonym of type is deprecated; in a future version of numpy, it will be understood as (type, (1,)) / '(1,)type'.\n",
      "  _np_qint16 = np.dtype([(\"qint16\", np.int16, 1)])\n",
      "C:\\Users\\Ryan\\anaconda3\\envs\\tensorflow_env\\lib\\site-packages\\tensorboard\\compat\\tensorflow_stub\\dtypes.py:544: FutureWarning: Passing (type, 1) or '1type' as a synonym of type is deprecated; in a future version of numpy, it will be understood as (type, (1,)) / '(1,)type'.\n",
      "  _np_quint16 = np.dtype([(\"quint16\", np.uint16, 1)])\n",
      "C:\\Users\\Ryan\\anaconda3\\envs\\tensorflow_env\\lib\\site-packages\\tensorboard\\compat\\tensorflow_stub\\dtypes.py:545: FutureWarning: Passing (type, 1) or '1type' as a synonym of type is deprecated; in a future version of numpy, it will be understood as (type, (1,)) / '(1,)type'.\n",
      "  _np_qint32 = np.dtype([(\"qint32\", np.int32, 1)])\n",
      "C:\\Users\\Ryan\\anaconda3\\envs\\tensorflow_env\\lib\\site-packages\\tensorboard\\compat\\tensorflow_stub\\dtypes.py:550: FutureWarning: Passing (type, 1) or '1type' as a synonym of type is deprecated; in a future version of numpy, it will be understood as (type, (1,)) / '(1,)type'.\n",
      "  np_resource = np.dtype([(\"resource\", np.ubyte, 1)])\n",
      "Using TensorFlow backend.\n"
     ]
    }
   ],
   "source": [
    "import numpy as np\n",
    "import tensorflow as tf\n",
    "import os\n",
    "import csv\n",
    "import matplotlib.pyplot as plt\n",
    "from keras import models\n",
    "from keras import layers\n",
    "import pre_process as pp\n",
    "import pickle\n",
    "import time"
   ]
  },
  {
   "cell_type": "markdown",
   "metadata": {},
   "source": [
    "<h2>Pre-processing</h2>"
   ]
  },
  {
   "cell_type": "code",
   "execution_count": 2,
   "metadata": {},
   "outputs": [
    {
     "name": "stdout",
     "output_type": "stream",
     "text": [
      "concatenating files\n",
      "AReMv1\\bending1\\dataset1.csv\n",
      "AReMv1\\bending1\\dataset2.csv\n",
      "AReMv1\\bending1\\dataset3.csv\n",
      "AReMv1\\bending1\\dataset4.csv\n",
      "AReMv1\\bending1\\dataset5.csv\n",
      "AReMv1\\bending1\\dataset6.csv\n",
      "AReMv1\\bending1\\dataset7.csv\n",
      "AReMv1\\bending2\\dataset1.csv\n",
      "AReMv1\\bending2\\dataset2.csv\n",
      "AReMv1\\bending2\\dataset3.csv\n",
      "AReMv1\\bending2\\dataset5.csv\n",
      "AReMv1\\bending2\\dataset6.csv\n",
      "AReMv1\\cycling\\dataset1.csv\n",
      "AReMv1\\cycling\\dataset10.csv\n",
      "AReMv1\\cycling\\dataset11.csv\n",
      "AReMv1\\cycling\\dataset12.csv\n",
      "AReMv1\\cycling\\dataset13.csv\n",
      "AReMv1\\cycling\\dataset14.csv\n",
      "AReMv1\\cycling\\dataset15.csv\n",
      "AReMv1\\cycling\\dataset2.csv\n",
      "AReMv1\\cycling\\dataset3.csv\n",
      "AReMv1\\cycling\\dataset4.csv\n",
      "AReMv1\\cycling\\dataset5.csv\n",
      "AReMv1\\cycling\\dataset6.csv\n",
      "AReMv1\\cycling\\dataset7.csv\n",
      "AReMv1\\cycling\\dataset8.csv\n",
      "AReMv1\\cycling\\dataset9.csv\n",
      "AReMv1\\lying\\dataset1.csv\n",
      "AReMv1\\lying\\dataset10.csv\n",
      "AReMv1\\lying\\dataset11.csv\n",
      "AReMv1\\lying\\dataset12.csv\n",
      "AReMv1\\lying\\dataset13.csv\n",
      "AReMv1\\lying\\dataset14.csv\n",
      "AReMv1\\lying\\dataset15.csv\n",
      "AReMv1\\lying\\dataset2.csv\n",
      "AReMv1\\lying\\dataset3.csv\n",
      "AReMv1\\lying\\dataset4.csv\n",
      "AReMv1\\lying\\dataset5.csv\n",
      "AReMv1\\lying\\dataset6.csv\n",
      "AReMv1\\lying\\dataset7.csv\n",
      "AReMv1\\lying\\dataset8.csv\n",
      "AReMv1\\lying\\dataset9.csv\n",
      "AReMv1\\sitting\\dataset1.csv\n",
      "AReMv1\\sitting\\dataset10.csv\n",
      "AReMv1\\sitting\\dataset11.csv\n",
      "AReMv1\\sitting\\dataset12.csv\n",
      "AReMv1\\sitting\\dataset13.csv\n",
      "AReMv1\\sitting\\dataset14.csv\n",
      "AReMv1\\sitting\\dataset15.csv\n",
      "AReMv1\\sitting\\dataset2.csv\n",
      "AReMv1\\sitting\\dataset3.csv\n",
      "AReMv1\\sitting\\dataset4.csv\n",
      "AReMv1\\sitting\\dataset5.csv\n",
      "AReMv1\\sitting\\dataset6.csv\n",
      "AReMv1\\sitting\\dataset7.csv\n",
      "AReMv1\\sitting\\dataset8.csv\n",
      "AReMv1\\sitting\\dataset9.csv\n",
      "AReMv1\\standing\\dataset1.csv\n",
      "AReMv1\\standing\\dataset10.csv\n",
      "AReMv1\\standing\\dataset11.csv\n",
      "AReMv1\\standing\\dataset12.csv\n",
      "AReMv1\\standing\\dataset13.csv\n",
      "AReMv1\\standing\\dataset14.csv\n",
      "AReMv1\\standing\\dataset15.csv\n",
      "AReMv1\\standing\\dataset2.csv\n",
      "AReMv1\\standing\\dataset3.csv\n",
      "AReMv1\\standing\\dataset4.csv\n",
      "AReMv1\\standing\\dataset5.csv\n",
      "AReMv1\\standing\\dataset6.csv\n",
      "AReMv1\\standing\\dataset7.csv\n",
      "AReMv1\\standing\\dataset8.csv\n",
      "AReMv1\\standing\\dataset9.csv\n",
      "AReMv1\\walking\\dataset1.csv\n",
      "AReMv1\\walking\\dataset10.csv\n",
      "AReMv1\\walking\\dataset11.csv\n",
      "AReMv1\\walking\\dataset12.csv\n",
      "AReMv1\\walking\\dataset13.csv\n",
      "AReMv1\\walking\\dataset14.csv\n",
      "AReMv1\\walking\\dataset15.csv\n",
      "AReMv1\\walking\\dataset2.csv\n",
      "AReMv1\\walking\\dataset3.csv\n",
      "AReMv1\\walking\\dataset4.csv\n",
      "AReMv1\\walking\\dataset5.csv\n",
      "AReMv1\\walking\\dataset6.csv\n",
      "AReMv1\\walking\\dataset7.csv\n",
      "AReMv1\\walking\\dataset8.csv\n",
      "AReMv1\\walking\\dataset9.csv\n",
      "Tokenising labels\n",
      "bending1 = 0\n",
      "bending1 = 0\n",
      "bending1 = 0\n",
      "bending1 = 0\n",
      "bending1 = 0\n",
      "bending1 = 0\n",
      "bending1 = 0\n",
      "bending2 = 1\n",
      "bending2 = 1\n",
      "bending2 = 1\n",
      "bending2 = 1\n",
      "bending2 = 1\n",
      "cycling = 2\n",
      "cycling = 2\n",
      "cycling = 2\n",
      "cycling = 2\n",
      "cycling = 2\n",
      "cycling = 2\n",
      "cycling = 2\n",
      "cycling = 2\n",
      "cycling = 2\n",
      "cycling = 2\n",
      "cycling = 2\n",
      "cycling = 2\n",
      "cycling = 2\n",
      "cycling = 2\n",
      "cycling = 2\n",
      "lying = 3\n",
      "lying = 3\n",
      "lying = 3\n",
      "lying = 3\n",
      "lying = 3\n",
      "lying = 3\n",
      "lying = 3\n",
      "lying = 3\n",
      "lying = 3\n",
      "lying = 3\n",
      "lying = 3\n",
      "lying = 3\n",
      "lying = 3\n",
      "lying = 3\n",
      "lying = 3\n",
      "sitting = 4\n",
      "sitting = 4\n",
      "sitting = 4\n",
      "sitting = 4\n",
      "sitting = 4\n",
      "sitting = 4\n",
      "sitting = 4\n",
      "sitting = 4\n",
      "sitting = 4\n",
      "sitting = 4\n",
      "sitting = 4\n",
      "sitting = 4\n",
      "sitting = 4\n",
      "sitting = 4\n",
      "sitting = 4\n",
      "standing = 5\n",
      "standing = 5\n",
      "standing = 5\n",
      "standing = 5\n",
      "standing = 5\n",
      "standing = 5\n",
      "standing = 5\n",
      "standing = 5\n",
      "standing = 5\n",
      "standing = 5\n",
      "standing = 5\n",
      "standing = 5\n",
      "standing = 5\n",
      "standing = 5\n",
      "standing = 5\n",
      "walking = 6\n",
      "walking = 6\n",
      "walking = 6\n",
      "walking = 6\n",
      "walking = 6\n",
      "walking = 6\n",
      "walking = 6\n",
      "walking = 6\n",
      "walking = 6\n",
      "walking = 6\n",
      "walking = 6\n",
      "walking = 6\n",
      "walking = 6\n",
      "walking = 6\n",
      "walking = 6\n",
      "data shape:\n",
      "(87, 480, 6)\n",
      "labels shape:\n",
      "(87,)\n"
     ]
    }
   ],
   "source": [
    "data, labels = pp.pre_process()"
   ]
  },
  {
   "cell_type": "markdown",
   "metadata": {},
   "source": [
    "<h2>Exp:a</h2><br>\n",
    "2 layer, 720 neurons"
   ]
  },
  {
   "cell_type": "code",
   "execution_count": 20,
   "metadata": {},
   "outputs": [],
   "source": [
    "def build_net1():\n",
    "    net1 = models.Sequential()\n",
    "    net1.add(layers.Dense(480, input_shape = (480,6)))\n",
    "    net1.add(layers.Dense (240, activation = 'relu'))\n",
    "    net1.add(layers.Dense (240, activation = 'relu'))\n",
    "    net1.add(layers.Flatten())\n",
    "    net1.add(layers.Dense(7, activation = 'softmax'))\n",
    "    net1.summary()\n",
    "    return net1"
   ]
  },
  {
   "cell_type": "code",
   "execution_count": 21,
   "metadata": {},
   "outputs": [],
   "source": [
    "def train_test1(net, test_no, train_data, train_labels, val_data, val_labels, test_data, test_labels):    \n",
    "    net.compile(optimizer = 'adam', loss = 'sparse_categorical_crossentropy', metrics = ['accuracy'])\n",
    "    hist = net.fit(train_data, train_labels, epochs = 20, validation_data = (val_data, val_labels))\n",
    "    test_results = net.evaluate(test_data, test_labels)\n",
    "    test_results.insert(0,'240x2r')\n",
    "    test_results.insert(1,test_no)\n",
    "    test_no = test_no + 1\n",
    "    summary = []\n",
    "    summary.append(test_results)\n",
    "    return test_no, summary, hist"
   ]
  },
  {
   "cell_type": "markdown",
   "metadata": {},
   "source": [
    "<h2>Exp:b</h2><br>\n",
    "2layer 600 nuerons"
   ]
  },
  {
   "cell_type": "code",
   "execution_count": 22,
   "metadata": {
    "scrolled": true
   },
   "outputs": [],
   "source": [
    "def build_net2():\n",
    "    net1 = models.Sequential()\n",
    "    net1.add(layers.Dense(480, input_shape = (480,6)))\n",
    "    net1.add(layers.Dense (240, activation = 'relu'))\n",
    "    net1.add(layers.Dense (240, activation = 'relu'))\n",
    "    net1.add(layers.Dense (240, activation = 'relu'))\n",
    "    net1.add(layers.Flatten())\n",
    "    net1.add(layers.Dense(7, activation = 'softmax'))\n",
    "    net1.summary()\n",
    "    return net1"
   ]
  },
  {
   "cell_type": "code",
   "execution_count": 23,
   "metadata": {},
   "outputs": [],
   "source": [
    "def train_test2(net, test_no, train_data, train_labels, val_data, val_labels, test_data, test_labels):\n",
    "    net.compile(optimizer = 'adam', loss = 'sparse_categorical_crossentropy', metrics = ['accuracy'])\n",
    "    hist = net.fit(train_data, train_labels, epochs = 20, validation_data = (val_data, val_labels))\n",
    "    test_results = net.evaluate(test_data, test_labels)\n",
    "    test_results.insert(0,'240x3r')\n",
    "    test_results.insert(1,test_no)\n",
    "    test_no = test_no + 1\n",
    "    summary = []\n",
    "    summary.append(test_results)\n",
    "    return test_no, summary, hist"
   ]
  },
  {
   "cell_type": "markdown",
   "metadata": {},
   "source": [
    "<h2>Exp:c</h2><br>\n",
    "2layer 480 nuerons"
   ]
  },
  {
   "cell_type": "code",
   "execution_count": 24,
   "metadata": {},
   "outputs": [],
   "source": [
    "def build_net3():\n",
    "    net1 = models.Sequential()\n",
    "    net1.add(layers.Dense(480, input_shape = (480,6)))\n",
    "    net1.add(layers.Dense (240, activation = 'relu'))\n",
    "    net1.add(layers.Dense (240, activation = 'relu'))\n",
    "    net1.add(layers.Dense (240, activation = 'relu'))\n",
    "    net1.add(layers.Dense (240, activation = 'relu'))\n",
    "    net1.add(layers.Flatten())\n",
    "    net1.add(layers.Dense(7, activation = 'softmax'))\n",
    "    net1.summary()\n",
    "    return net1"
   ]
  },
  {
   "cell_type": "code",
   "execution_count": 25,
   "metadata": {},
   "outputs": [],
   "source": [
    "def train_test3(net, test_no, train_data, train_labels, val_data, val_labels, test_data, test_labels):\n",
    "    net.compile(optimizer = 'adam', loss = 'sparse_categorical_crossentropy', metrics = ['accuracy'])\n",
    "    hist = net.fit(train_data, train_labels, epochs = 20, validation_data = (val_data, val_labels))\n",
    "    test_results = net.evaluate(test_data, test_labels)\n",
    "    test_results.insert(0,'240x4r')\n",
    "    test_results.insert(1,test_no)\n",
    "    test_no = test_no + 1\n",
    "    summary = []\n",
    "    summary.append(test_results)\n",
    "    return test_no, summary, hist"
   ]
  },
  {
   "cell_type": "markdown",
   "metadata": {},
   "source": [
    "<h2>Exp:d</h2>\n",
    "<br>\n",
    "2layer 360 neurons"
   ]
  },
  {
   "cell_type": "code",
   "execution_count": 26,
   "metadata": {},
   "outputs": [],
   "source": [
    "def build_net4():\n",
    "    net1 = models.Sequential()\n",
    "    net1.add(layers.Dense(480, input_shape = (480,6)))\n",
    "    net1.add(layers.Dense (240, activation = 'relu'))\n",
    "    net1.add(layers.Dense (240, activation = 'relu'))\n",
    "    net1.add(layers.Dense (240, activation = 'relu'))\n",
    "    net1.add(layers.Dense (240, activation = 'relu'))\n",
    "    net1.add(layers.Dense (240, activation = 'relu'))\n",
    "    net1.add(layers.Flatten())\n",
    "    net1.add(layers.Dense(7, activation = 'softmax'))\n",
    "    net1.summary()\n",
    "    return net1"
   ]
  },
  {
   "cell_type": "code",
   "execution_count": 27,
   "metadata": {},
   "outputs": [],
   "source": [
    "def train_test4(net, test_no, train_data, train_labels, val_data, val_labels, test_data, test_labels):\n",
    "    net.compile(optimizer = 'adam', loss = 'sparse_categorical_crossentropy', metrics = ['accuracy'])\n",
    "    hist = net.fit(train_data, train_labels, epochs = 20, validation_data = (val_data, val_labels))\n",
    "    test_results = net.evaluate(test_data, test_labels)\n",
    "    test_results.insert(0,'240x5r')\n",
    "    test_results.insert(1,test_no)\n",
    "    test_no = test_no + 1\n",
    "    summary = []\n",
    "    summary.append(test_results)\n",
    "    return test_no, summary, hist"
   ]
  },
  {
   "cell_type": "markdown",
   "metadata": {},
   "source": [
    "<h2>Exp:e</h2><br>\n",
    "2layer 240 neurons"
   ]
  },
  {
   "cell_type": "code",
   "execution_count": 28,
   "metadata": {},
   "outputs": [],
   "source": [
    "def build_net5():\n",
    "    net1 = models.Sequential()\n",
    "    net1.add(layers.Dropout(.2, input_shape = (480,6)))\n",
    "    net1.add(layers.Dense (480, activation = 'relu'))\n",
    "    net1.add(layers.Dense (480, activation = 'relu'))\n",
    "    net1.add(layers.Dense (480, activation = 'relu'))\n",
    "    net1.add(layers.Flatten())\n",
    "    net1.add(layers.Dense(7, activation = 'softmax'))\n",
    "    net1.summary()\n",
    "    return net1"
   ]
  },
  {
   "cell_type": "code",
   "execution_count": 29,
   "metadata": {},
   "outputs": [],
   "source": [
    "def train_test5(net, test_no, train_data, train_labels, val_data, val_labels, test_data, test_labels):\n",
    "    net.compile(optimizer = 'adam', loss = 'sparse_categorical_crossentropy', metrics = ['accuracy'])\n",
    "    hist = net.fit(train_data, train_labels, epochs = 20, validation_data = (val_data, val_labels))\n",
    "    test_results = net.evaluate(test_data, test_labels)\n",
    "    test_results.insert(0,'240r,240s')\n",
    "    test_results.insert(1,test_no)\n",
    "    test_no = test_no + 1\n",
    "    summary = []\n",
    "    summary.append(test_results)\n",
    "    return test_no, summary, hist"
   ]
  },
  {
   "cell_type": "markdown",
   "metadata": {},
   "source": [
    "<h2>Exp:f</h2>\n",
    "<br>\n",
    "2layer 120 neurons"
   ]
  },
  {
   "cell_type": "code",
   "execution_count": 30,
   "metadata": {},
   "outputs": [],
   "source": [
    "def build_net6():\n",
    "    net1 = models.Sequential()\n",
    "    net1.add(layers.Dense(480, input_shape = (480,6)))\n",
    "    net1.add(layers.Dense (120, activation = 'relu'))\n",
    "    net1.add(layers.Dense (120, activation = 'softmax'))\n",
    "    net1.add(layers.Flatten())\n",
    "    net1.add(layers.Dense(7, activation = 'sigmoid'))\n",
    "    net1.summary()\n",
    "    return net1"
   ]
  },
  {
   "cell_type": "code",
   "execution_count": 31,
   "metadata": {},
   "outputs": [],
   "source": [
    "def train_test6(net, test_no, train_data, train_labels, val_data, val_labels, test_data, test_labels):\n",
    "    net.compile(optimizer = 'adam', loss = 'sparse_categorical_crossentropy', metrics = ['accuracy'])\n",
    "    hist = net.fit(train_data, train_labels, epochs = 20, validation_data = (val_data, val_labels))\n",
    "    test_results = net.evaluate(test_data, test_labels)\n",
    "    test_results.insert(0,'120r,120s')\n",
    "    test_results.insert(1,test_no)\n",
    "    test_no = test_no + 1\n",
    "    summary = []\n",
    "    summary.append(test_results)\n",
    "    return test_no, summary, hist"
   ]
  },
  {
   "cell_type": "code",
   "execution_count": 32,
   "metadata": {},
   "outputs": [],
   "source": [
    "def start(data, labels):\n",
    "    start = time.time()\n",
    "    summary = []\n",
    "    histories = []\n",
    "    i = 1\n",
    "    test_no = 1\n",
    "    while i < 2:\n",
    "        train_data, train_labels, val_data, val_labels, test_data, test_labels = pp.cluster_shuffle(data, labels)\n",
    "        net1 = build_net1()\n",
    "        test_no, summary1, history1 = train_test1(net1, test_no, train_data, train_labels, val_data, val_labels, test_data, test_labels)\n",
    "        histories.append(history1)\n",
    "        net2 = build_net2()        \n",
    "        test_no, summary2, history2 = train_test2(net2, test_no, train_data, train_labels, val_data, val_labels, test_data, test_labels)\n",
    "        histories.append(history2)\n",
    "        net3 = build_net3()        \n",
    "        test_no, summary3, history3 = train_test3(net3, test_no, train_data, train_labels, val_data, val_labels, test_data, test_labels)\n",
    "        histories.append(history3)\n",
    "        net4 = build_net4()        \n",
    "        test_no, summary4, history4 = train_test4(net4, test_no, train_data, train_labels, val_data, val_labels, test_data, test_labels)\n",
    "        histories.append(history4)\n",
    "        #net5 = build_net5()        \n",
    "        #test_no, summary5, history5 = train_test5(net5, test_no, train_data, train_labels, val_data, val_labels, test_data, test_labels)\n",
    "        #histories.append(history5)\n",
    "        #net6 = build_net6()        \n",
    "        #test_no, summary6, history6 = train_test6(net6, test_no, train_data, train_labels, val_data, val_labels, test_data, test_labels)\n",
    "        #histories.append(history6)\n",
    "        summary = summary + summary1 + summary2 + summary3 + summary4\n",
    "        i = i + 1 \n",
    "    print(summary)\n",
    "    end = time.time()\n",
    "    elapsed = end - start\n",
    "    print('Time elapsed: ', elapsed)\n",
    "    with open('ENB17_results.txt', 'wb') as fp:\n",
    "        pickle.dump(summary, fp)\n",
    "    with open('ENB17_histories.txt', 'wb') as fp:\n",
    "        pickle.dump(histories, fp)\n",
    "    return summary, histories"
   ]
  },
  {
   "cell_type": "code",
   "execution_count": 33,
   "metadata": {},
   "outputs": [
    {
     "name": "stdout",
     "output_type": "stream",
     "text": [
      "SHUFFLING ARRAYS\n",
      "act0 shape:  (7, 480, 6)\n",
      "act1 shape:  (5, 480, 6)\n",
      "act2 shape:  (15, 480, 6)\n",
      "act3 shape:  (15, 480, 6)\n",
      "act4 shape:  (15, 480, 6)\n",
      "act5 shape:  (15, 480, 6)\n",
      "act6 shape:  (15, 480, 6)\n",
      "SLICING ARRAYS\n",
      "(4, 480, 6)\n",
      "(2, 480, 6)\n",
      "(1, 480, 6)\n",
      "Model: \"sequential_5\"\n",
      "_________________________________________________________________\n",
      "Layer (type)                 Output Shape              Param #   \n",
      "=================================================================\n",
      "dense_23 (Dense)             (None, 480, 480)          3360      \n",
      "_________________________________________________________________\n",
      "dense_24 (Dense)             (None, 480, 240)          115440    \n",
      "_________________________________________________________________\n",
      "dense_25 (Dense)             (None, 480, 240)          57840     \n",
      "_________________________________________________________________\n",
      "flatten_5 (Flatten)          (None, 115200)            0         \n",
      "_________________________________________________________________\n",
      "dense_26 (Dense)             (None, 7)                 806407    \n",
      "=================================================================\n",
      "Total params: 983,047\n",
      "Trainable params: 983,047\n",
      "Non-trainable params: 0\n",
      "_________________________________________________________________\n",
      "Train on 52 samples, validate on 18 samples\n",
      "Epoch 1/20\n",
      "52/52 [==============================] - 1s 12ms/step - loss: 2.3459 - accuracy: 0.1346 - val_loss: 1.9665 - val_accuracy: 0.1667\n",
      "Epoch 2/20\n",
      "52/52 [==============================] - 0s 6ms/step - loss: 1.8362 - accuracy: 0.2308 - val_loss: 1.7237 - val_accuracy: 0.2778\n",
      "Epoch 3/20\n",
      "52/52 [==============================] - 0s 6ms/step - loss: 1.6875 - accuracy: 0.3654 - val_loss: 1.5144 - val_accuracy: 0.3889\n",
      "Epoch 4/20\n",
      "52/52 [==============================] - 0s 5ms/step - loss: 1.4704 - accuracy: 0.4615 - val_loss: 1.3012 - val_accuracy: 0.5000\n",
      "Epoch 5/20\n",
      "52/52 [==============================] - 0s 5ms/step - loss: 1.3218 - accuracy: 0.4423 - val_loss: 1.0901 - val_accuracy: 0.7778\n",
      "Epoch 6/20\n",
      "52/52 [==============================] - 0s 5ms/step - loss: 1.0451 - accuracy: 0.7692 - val_loss: 1.0277 - val_accuracy: 0.5556\n",
      "Epoch 7/20\n",
      "52/52 [==============================] - 0s 5ms/step - loss: 0.8346 - accuracy: 0.6154 - val_loss: 0.9219 - val_accuracy: 0.6111\n",
      "Epoch 8/20\n",
      "52/52 [==============================] - 0s 5ms/step - loss: 0.6915 - accuracy: 0.9038 - val_loss: 0.7272 - val_accuracy: 0.7778\n",
      "Epoch 9/20\n",
      "52/52 [==============================] - 0s 6ms/step - loss: 0.4931 - accuracy: 0.9231 - val_loss: 0.7308 - val_accuracy: 0.8333\n",
      "Epoch 10/20\n",
      "52/52 [==============================] - 0s 5ms/step - loss: 0.4300 - accuracy: 0.9038 - val_loss: 0.6286 - val_accuracy: 0.7778\n",
      "Epoch 11/20\n",
      "52/52 [==============================] - 0s 6ms/step - loss: 0.2740 - accuracy: 0.9615 - val_loss: 0.6775 - val_accuracy: 0.7778\n",
      "Epoch 12/20\n",
      "52/52 [==============================] - 0s 5ms/step - loss: 0.2458 - accuracy: 0.9231 - val_loss: 0.5786 - val_accuracy: 0.7778\n",
      "Epoch 13/20\n",
      "52/52 [==============================] - 0s 5ms/step - loss: 0.1923 - accuracy: 0.9615 - val_loss: 0.8433 - val_accuracy: 0.6667\n",
      "Epoch 14/20\n",
      "52/52 [==============================] - 0s 5ms/step - loss: 0.1690 - accuracy: 0.9808 - val_loss: 0.9385 - val_accuracy: 0.6667\n",
      "Epoch 15/20\n",
      "52/52 [==============================] - 0s 5ms/step - loss: 0.1320 - accuracy: 0.9423 - val_loss: 0.6303 - val_accuracy: 0.8333\n",
      "Epoch 16/20\n",
      "52/52 [==============================] - 0s 5ms/step - loss: 0.0783 - accuracy: 0.9615 - val_loss: 0.6430 - val_accuracy: 0.7222\n",
      "Epoch 17/20\n",
      "52/52 [==============================] - 0s 6ms/step - loss: 0.0847 - accuracy: 0.9615 - val_loss: 0.7683 - val_accuracy: 0.7778\n",
      "Epoch 18/20\n",
      "52/52 [==============================] - 0s 5ms/step - loss: 0.0414 - accuracy: 1.0000 - val_loss: 1.0749 - val_accuracy: 0.7222\n",
      "Epoch 19/20\n",
      "52/52 [==============================] - 0s 5ms/step - loss: 0.0481 - accuracy: 1.0000 - val_loss: 0.8990 - val_accuracy: 0.7222\n",
      "Epoch 20/20\n",
      "52/52 [==============================] - 0s 6ms/step - loss: 0.0228 - accuracy: 1.0000 - val_loss: 0.8070 - val_accuracy: 0.7778\n",
      "17/17 [==============================] - 0s 2ms/step\n",
      "Model: \"sequential_6\"\n",
      "_________________________________________________________________\n",
      "Layer (type)                 Output Shape              Param #   \n",
      "=================================================================\n",
      "dense_27 (Dense)             (None, 480, 480)          3360      \n",
      "_________________________________________________________________\n",
      "dense_28 (Dense)             (None, 480, 240)          115440    \n",
      "_________________________________________________________________\n",
      "dense_29 (Dense)             (None, 480, 240)          57840     \n",
      "_________________________________________________________________\n",
      "dense_30 (Dense)             (None, 480, 240)          57840     \n",
      "_________________________________________________________________\n",
      "flatten_6 (Flatten)          (None, 115200)            0         \n",
      "_________________________________________________________________\n",
      "dense_31 (Dense)             (None, 7)                 806407    \n",
      "=================================================================\n",
      "Total params: 1,040,887\n",
      "Trainable params: 1,040,887\n",
      "Non-trainable params: 0\n",
      "_________________________________________________________________\n",
      "Train on 52 samples, validate on 18 samples\n",
      "Epoch 1/20\n",
      "52/52 [==============================] - 1s 16ms/step - loss: 2.0601 - accuracy: 0.1346 - val_loss: 1.8549 - val_accuracy: 0.1667\n",
      "Epoch 2/20\n",
      "52/52 [==============================] - 0s 6ms/step - loss: 1.8019 - accuracy: 0.2308 - val_loss: 1.7111 - val_accuracy: 0.1667\n",
      "Epoch 3/20\n",
      "52/52 [==============================] - 0s 6ms/step - loss: 1.7125 - accuracy: 0.2308 - val_loss: 1.4868 - val_accuracy: 0.3889\n",
      "Epoch 4/20\n",
      "52/52 [==============================] - 0s 7ms/step - loss: 1.4571 - accuracy: 0.4423 - val_loss: 1.2562 - val_accuracy: 0.4444\n",
      "Epoch 5/20\n",
      "52/52 [==============================] - 0s 7ms/step - loss: 1.1805 - accuracy: 0.5962 - val_loss: 1.1296 - val_accuracy: 0.6667\n",
      "Epoch 6/20\n",
      "52/52 [==============================] - 0s 7ms/step - loss: 0.9871 - accuracy: 0.7308 - val_loss: 0.9638 - val_accuracy: 0.6667\n",
      "Epoch 7/20\n",
      "52/52 [==============================] - 0s 7ms/step - loss: 0.7434 - accuracy: 0.6923 - val_loss: 0.8121 - val_accuracy: 0.7778\n",
      "Epoch 8/20\n",
      "52/52 [==============================] - 0s 7ms/step - loss: 0.5720 - accuracy: 0.9231 - val_loss: 0.9739 - val_accuracy: 0.5556\n",
      "Epoch 9/20\n",
      "52/52 [==============================] - 0s 7ms/step - loss: 0.5527 - accuracy: 0.7500 - val_loss: 0.7712 - val_accuracy: 0.7222\n",
      "Epoch 10/20\n",
      "52/52 [==============================] - 0s 7ms/step - loss: 0.4588 - accuracy: 0.8077 - val_loss: 0.8885 - val_accuracy: 0.5556\n",
      "Epoch 11/20\n",
      "52/52 [==============================] - 0s 7ms/step - loss: 0.5200 - accuracy: 0.9231 - val_loss: 0.7828 - val_accuracy: 0.6667\n",
      "Epoch 12/20\n",
      "52/52 [==============================] - 0s 8ms/step - loss: 0.2903 - accuracy: 0.8846 - val_loss: 0.7891 - val_accuracy: 0.6111\n",
      "Epoch 13/20\n",
      "52/52 [==============================] - 0s 6ms/step - loss: 0.3349 - accuracy: 0.8654 - val_loss: 1.0021 - val_accuracy: 0.6111\n",
      "Epoch 14/20\n",
      "52/52 [==============================] - 0s 7ms/step - loss: 0.1365 - accuracy: 0.9615 - val_loss: 1.5499 - val_accuracy: 0.5556\n",
      "Epoch 15/20\n",
      "52/52 [==============================] - 0s 7ms/step - loss: 0.1389 - accuracy: 1.0000 - val_loss: 1.0807 - val_accuracy: 0.6667\n",
      "Epoch 16/20\n",
      "52/52 [==============================] - 0s 7ms/step - loss: 0.0776 - accuracy: 1.0000 - val_loss: 0.8026 - val_accuracy: 0.8333\n",
      "Epoch 17/20\n",
      "52/52 [==============================] - 0s 7ms/step - loss: 0.0512 - accuracy: 1.0000 - val_loss: 0.8073 - val_accuracy: 0.7222\n",
      "Epoch 18/20\n",
      "52/52 [==============================] - 0s 7ms/step - loss: 0.0567 - accuracy: 1.0000 - val_loss: 0.6377 - val_accuracy: 0.8333\n",
      "Epoch 19/20\n",
      "52/52 [==============================] - 0s 7ms/step - loss: 0.0215 - accuracy: 1.0000 - val_loss: 0.7513 - val_accuracy: 0.6667\n",
      "Epoch 20/20\n",
      "52/52 [==============================] - 0s 8ms/step - loss: 0.0199 - accuracy: 1.0000 - val_loss: 0.8730 - val_accuracy: 0.6667\n",
      "17/17 [==============================] - 0s 3ms/step\n"
     ]
    },
    {
     "name": "stdout",
     "output_type": "stream",
     "text": [
      "Model: \"sequential_7\"\n",
      "_________________________________________________________________\n",
      "Layer (type)                 Output Shape              Param #   \n",
      "=================================================================\n",
      "dense_32 (Dense)             (None, 480, 480)          3360      \n",
      "_________________________________________________________________\n",
      "dense_33 (Dense)             (None, 480, 240)          115440    \n",
      "_________________________________________________________________\n",
      "dense_34 (Dense)             (None, 480, 240)          57840     \n",
      "_________________________________________________________________\n",
      "dense_35 (Dense)             (None, 480, 240)          57840     \n",
      "_________________________________________________________________\n",
      "dense_36 (Dense)             (None, 480, 240)          57840     \n",
      "_________________________________________________________________\n",
      "flatten_7 (Flatten)          (None, 115200)            0         \n",
      "_________________________________________________________________\n",
      "dense_37 (Dense)             (None, 7)                 806407    \n",
      "=================================================================\n",
      "Total params: 1,098,727\n",
      "Trainable params: 1,098,727\n",
      "Non-trainable params: 0\n",
      "_________________________________________________________________\n",
      "Train on 52 samples, validate on 18 samples\n",
      "Epoch 1/20\n",
      "52/52 [==============================] - 1s 19ms/step - loss: 2.1045 - accuracy: 0.1538 - val_loss: 1.8597 - val_accuracy: 0.1667\n",
      "Epoch 2/20\n",
      "52/52 [==============================] - 0s 9ms/step - loss: 1.8635 - accuracy: 0.2692 - val_loss: 1.7583 - val_accuracy: 0.2222\n",
      "Epoch 3/20\n",
      "52/52 [==============================] - 0s 9ms/step - loss: 1.7763 - accuracy: 0.3269 - val_loss: 1.6275 - val_accuracy: 0.3889\n",
      "Epoch 4/20\n",
      "52/52 [==============================] - 0s 8ms/step - loss: 1.5308 - accuracy: 0.4615 - val_loss: 1.3695 - val_accuracy: 0.4444\n",
      "Epoch 5/20\n",
      "52/52 [==============================] - 0s 9ms/step - loss: 1.2582 - accuracy: 0.5962 - val_loss: 1.2073 - val_accuracy: 0.5000\n",
      "Epoch 6/20\n",
      "52/52 [==============================] - 0s 8ms/step - loss: 1.2191 - accuracy: 0.5577 - val_loss: 1.0933 - val_accuracy: 0.5556\n",
      "Epoch 7/20\n",
      "52/52 [==============================] - 0s 10ms/step - loss: 0.9885 - accuracy: 0.6154 - val_loss: 0.9483 - val_accuracy: 0.6111\n",
      "Epoch 8/20\n",
      "52/52 [==============================] - 0s 9ms/step - loss: 0.7986 - accuracy: 0.6731 - val_loss: 1.1355 - val_accuracy: 0.3889\n",
      "Epoch 9/20\n",
      "52/52 [==============================] - 0s 7ms/step - loss: 0.7380 - accuracy: 0.5962 - val_loss: 0.7539 - val_accuracy: 0.6111\n",
      "Epoch 10/20\n",
      "52/52 [==============================] - 0s 9ms/step - loss: 0.5253 - accuracy: 0.9038 - val_loss: 0.7924 - val_accuracy: 0.6667\n",
      "Epoch 11/20\n",
      "52/52 [==============================] - 0s 10ms/step - loss: 0.4626 - accuracy: 0.8462 - val_loss: 0.7225 - val_accuracy: 0.7222\n",
      "Epoch 12/20\n",
      "52/52 [==============================] - 1s 10ms/step - loss: 0.3233 - accuracy: 0.9038 - val_loss: 0.6264 - val_accuracy: 0.7778\n",
      "Epoch 13/20\n",
      "52/52 [==============================] - 0s 9ms/step - loss: 0.1986 - accuracy: 0.9808 - val_loss: 0.6562 - val_accuracy: 0.7778\n",
      "Epoch 14/20\n",
      "52/52 [==============================] - 0s 9ms/step - loss: 0.1770 - accuracy: 0.9808 - val_loss: 0.7019 - val_accuracy: 0.6667\n",
      "Epoch 15/20\n",
      "52/52 [==============================] - 1s 10ms/step - loss: 0.0945 - accuracy: 1.0000 - val_loss: 1.0410 - val_accuracy: 0.6667\n",
      "Epoch 16/20\n",
      "52/52 [==============================] - 0s 8ms/step - loss: 0.1044 - accuracy: 0.9808 - val_loss: 0.9576 - val_accuracy: 0.6667\n",
      "Epoch 17/20\n",
      "52/52 [==============================] - 0s 9ms/step - loss: 0.0559 - accuracy: 0.9808 - val_loss: 0.7191 - val_accuracy: 0.8333\n",
      "Epoch 18/20\n",
      "52/52 [==============================] - 0s 9ms/step - loss: 0.0396 - accuracy: 1.0000 - val_loss: 0.8390 - val_accuracy: 0.7222\n",
      "Epoch 19/20\n",
      "52/52 [==============================] - 0s 9ms/step - loss: 0.0707 - accuracy: 0.9808 - val_loss: 0.7359 - val_accuracy: 0.7778\n",
      "Epoch 20/20\n",
      "52/52 [==============================] - 0s 8ms/step - loss: 0.0120 - accuracy: 1.0000 - val_loss: 1.6562 - val_accuracy: 0.5556\n",
      "17/17 [==============================] - 0s 3ms/step\n",
      "Model: \"sequential_8\"\n",
      "_________________________________________________________________\n",
      "Layer (type)                 Output Shape              Param #   \n",
      "=================================================================\n",
      "dense_38 (Dense)             (None, 480, 480)          3360      \n",
      "_________________________________________________________________\n",
      "dense_39 (Dense)             (None, 480, 240)          115440    \n",
      "_________________________________________________________________\n",
      "dense_40 (Dense)             (None, 480, 240)          57840     \n",
      "_________________________________________________________________\n",
      "dense_41 (Dense)             (None, 480, 240)          57840     \n",
      "_________________________________________________________________\n",
      "dense_42 (Dense)             (None, 480, 240)          57840     \n",
      "_________________________________________________________________\n",
      "dense_43 (Dense)             (None, 480, 240)          57840     \n",
      "_________________________________________________________________\n",
      "flatten_8 (Flatten)          (None, 115200)            0         \n",
      "_________________________________________________________________\n",
      "dense_44 (Dense)             (None, 7)                 806407    \n",
      "=================================================================\n",
      "Total params: 1,156,567\n",
      "Trainable params: 1,156,567\n",
      "Non-trainable params: 0\n",
      "_________________________________________________________________\n",
      "Train on 52 samples, validate on 18 samples\n",
      "Epoch 1/20\n",
      "52/52 [==============================] - 1s 21ms/step - loss: 2.0760 - accuracy: 0.1923 - val_loss: 1.8974 - val_accuracy: 0.1667\n",
      "Epoch 2/20\n",
      "52/52 [==============================] - 1s 10ms/step - loss: 1.8778 - accuracy: 0.1731 - val_loss: 1.8199 - val_accuracy: 0.1667\n",
      "Epoch 3/20\n",
      "52/52 [==============================] - 1s 10ms/step - loss: 1.8517 - accuracy: 0.1731 - val_loss: 1.7038 - val_accuracy: 0.3333\n",
      "Epoch 4/20\n",
      "52/52 [==============================] - 1s 10ms/step - loss: 1.6991 - accuracy: 0.3269 - val_loss: 1.4971 - val_accuracy: 0.4444\n",
      "Epoch 5/20\n",
      "52/52 [==============================] - 1s 10ms/step - loss: 1.4781 - accuracy: 0.5000 - val_loss: 1.3245 - val_accuracy: 0.3889\n",
      "Epoch 6/20\n",
      "52/52 [==============================] - 1s 10ms/step - loss: 1.4210 - accuracy: 0.3462 - val_loss: 1.0353 - val_accuracy: 0.6111\n",
      "Epoch 7/20\n",
      "52/52 [==============================] - 1s 10ms/step - loss: 0.9897 - accuracy: 0.6538 - val_loss: 0.9660 - val_accuracy: 0.5556\n",
      "Epoch 8/20\n",
      "52/52 [==============================] - 1s 11ms/step - loss: 0.8834 - accuracy: 0.6346 - val_loss: 0.8714 - val_accuracy: 0.6111\n",
      "Epoch 9/20\n",
      "52/52 [==============================] - 1s 10ms/step - loss: 0.6473 - accuracy: 0.8654 - val_loss: 0.8298 - val_accuracy: 0.6111\n",
      "Epoch 10/20\n",
      "52/52 [==============================] - 1s 12ms/step - loss: 0.4425 - accuracy: 0.8462 - val_loss: 0.7360 - val_accuracy: 0.6667\n",
      "Epoch 11/20\n",
      "52/52 [==============================] - 1s 11ms/step - loss: 0.3801 - accuracy: 0.8654 - val_loss: 1.1777 - val_accuracy: 0.6667\n",
      "Epoch 12/20\n",
      "52/52 [==============================] - 1s 12ms/step - loss: 0.2540 - accuracy: 0.9615 - val_loss: 0.9976 - val_accuracy: 0.5000\n",
      "Epoch 13/20\n",
      "52/52 [==============================] - 1s 11ms/step - loss: 0.2000 - accuracy: 0.9423 - val_loss: 1.6251 - val_accuracy: 0.4444\n",
      "Epoch 14/20\n",
      "52/52 [==============================] - 0s 9ms/step - loss: 0.1731 - accuracy: 0.9615 - val_loss: 1.0856 - val_accuracy: 0.5556\n",
      "Epoch 15/20\n",
      "52/52 [==============================] - 1s 11ms/step - loss: 0.3174 - accuracy: 0.8462 - val_loss: 0.9922 - val_accuracy: 0.6667\n",
      "Epoch 16/20\n",
      "52/52 [==============================] - 1s 12ms/step - loss: 0.1826 - accuracy: 0.9615 - val_loss: 1.4913 - val_accuracy: 0.6667\n",
      "Epoch 17/20\n",
      "52/52 [==============================] - 0s 10ms/step - loss: 0.2348 - accuracy: 0.8269 - val_loss: 1.3960 - val_accuracy: 0.5556\n",
      "Epoch 18/20\n",
      "52/52 [==============================] - 1s 11ms/step - loss: 0.1108 - accuracy: 0.9615 - val_loss: 1.5506 - val_accuracy: 0.6667\n"
     ]
    },
    {
     "name": "stdout",
     "output_type": "stream",
     "text": [
      "Epoch 19/20\n",
      "52/52 [==============================] - 1s 10ms/step - loss: 0.0641 - accuracy: 0.9808 - val_loss: 1.4026 - val_accuracy: 0.6667\n",
      "Epoch 20/20\n",
      "52/52 [==============================] - 1s 11ms/step - loss: 0.1072 - accuracy: 0.9808 - val_loss: 0.8916 - val_accuracy: 0.7778\n",
      "17/17 [==============================] - 0s 4ms/step\n",
      "[['240x2r', 1, 1.0291986465454102, 0.7058823704719543], ['240x3r', 2, 0.8936088681221008, 0.7058823704719543], ['240x4r', 3, 2.229954481124878, 0.7058823704719543], ['240x5r', 4, 1.8814297914505005, 0.6470588445663452]]\n",
      "Time elapsed:  39.27137732505798\n"
     ]
    }
   ],
   "source": [
    "summary, histories = start(data, labels)"
   ]
  },
  {
   "cell_type": "code",
   "execution_count": 34,
   "metadata": {},
   "outputs": [],
   "source": [
    "history1 = histories[0]\n",
    "history2 = histories[1]\n",
    "history3 = histories[2]\n",
    "history4 = histories[3]\n",
    "#history5 = histories[4]\n",
    "#history6 = histories[5]"
   ]
  },
  {
   "cell_type": "code",
   "execution_count": 35,
   "metadata": {},
   "outputs": [
    {
     "data": {
      "image/png": "[encoded data removed]",
      "text/plain": [
       "<Figure size 432x288 with 1 Axes>"
      ]
     },
     "metadata": {
      "needs_background": "light"
     },
     "output_type": "display_data"
    }
   ],
   "source": [
    "pp.plot_hist(history1)"
   ]
  },
  {
   "cell_type": "code",
   "execution_count": 36,
   "metadata": {},
   "outputs": [
    {
     "data": {
      "image/png": "[encoded data removed]",
      "text/plain": [
       "<Figure size 432x288 with 1 Axes>"
      ]
     },
     "metadata": {
      "needs_background": "light"
     },
     "output_type": "display_data"
    }
   ],
   "source": [
    "pp.plot_hist(history2)"
   ]
  },
  {
   "cell_type": "code",
   "execution_count": 37,
   "metadata": {},
   "outputs": [
    {
     "data": {
      "image/png": "[encoded data removed]",
      "text/plain": [
       "<Figure size 432x288 with 1 Axes>"
      ]
     },
     "metadata": {
      "needs_background": "light"
     },
     "output_type": "display_data"
    }
   ],
   "source": [
    "pp.plot_hist(history3)"
   ]
  },
  {
   "cell_type": "code",
   "execution_count": 38,
   "metadata": {},
   "outputs": [
    {
     "data": {
      "image/png": "[encoded data removed]",
      "text/plain": [
       "<Figure size 432x288 with 1 Axes>"
      ]
     },
     "metadata": {
      "needs_background": "light"
     },
     "output_type": "display_data"
    }
   ],
   "source": [
    "pp.plot_hist(history4)"
   ]
  },
  {
   "cell_type": "code",
   "execution_count": 22,
   "metadata": {},
   "outputs": [],
   "source": [
    "#pp.plot_hist(history5)"
   ]
  },
  {
   "cell_type": "code",
   "execution_count": 23,
   "metadata": {},
   "outputs": [],
   "source": [
    "#pp.plot_hist(history6)"
   ]
  },
  {
   "cell_type": "code",
   "execution_count": 3,
   "metadata": {},
   "outputs": [
    {
     "name": "stdout",
     "output_type": "stream",
     "text": [
      "WARNING:tensorflow:From C:\\Users\\Ryan\\anaconda3\\envs\\tensorflow_env\\lib\\site-packages\\tensorflow\\python\\ops\\math_grad.py:1250: add_dispatch_support.<locals>.wrapper (from tensorflow.python.ops.array_ops) is deprecated and will be removed in a future version.\n",
      "Instructions for updating:\n",
      "Use tf.where in 2.0, which has the same broadcast rule as np.where\n",
      "WARNING:tensorflow:From C:\\Users\\Ryan\\anaconda3\\envs\\tensorflow_env\\lib\\site-packages\\keras\\backend\\tensorflow_backend.py:422: The name tf.global_variables is deprecated. Please use tf.compat.v1.global_variables instead.\n",
      "\n"
     ]
    }
   ],
   "source": [
    "#with open('ENB17_histories.txt', 'rb') as fp:\n",
    "#    histories = pickle.load(fp)"
   ]
  },
  {
   "cell_type": "code",
   "execution_count": 4,
   "metadata": {},
   "outputs": [],
   "source": [
    "#with open('ENB17_results.txt', 'rb') as fp:\n",
    "#    summary = pickle.load(fp)"
   ]
  },
  {
   "cell_type": "code",
   "execution_count": 39,
   "metadata": {},
   "outputs": [],
   "source": [
    "results = pp.results_to_df(summary)"
   ]
  },
  {
   "cell_type": "code",
   "execution_count": 40,
   "metadata": {},
   "outputs": [
    {
     "data": {
      "text/html": [
       "<div>\n",
       "<style scoped>\n",
       "    .dataframe tbody tr th:only-of-type {\n",
       "        vertical-align: middle;\n",
       "    }\n",
       "\n",
       "    .dataframe tbody tr th {\n",
       "        vertical-align: top;\n",
       "    }\n",
       "\n",
       "    .dataframe thead th {\n",
       "        text-align: right;\n",
       "    }\n",
       "</style>\n",
       "<table border=\"1\" class=\"dataframe\">\n",
       "  <thead>\n",
       "    <tr style=\"text-align: right;\">\n",
       "      <th></th>\n",
       "      <th>0</th>\n",
       "      <th>1</th>\n",
       "      <th>Test_Loss</th>\n",
       "      <th>Test_Accuracy</th>\n",
       "    </tr>\n",
       "  </thead>\n",
       "  <tbody>\n",
       "    <tr>\n",
       "      <th>0</th>\n",
       "      <td>240x2r</td>\n",
       "      <td>1</td>\n",
       "      <td>1.029199</td>\n",
       "      <td>0.705882</td>\n",
       "    </tr>\n",
       "    <tr>\n",
       "      <th>1</th>\n",
       "      <td>240x3r</td>\n",
       "      <td>2</td>\n",
       "      <td>0.893609</td>\n",
       "      <td>0.705882</td>\n",
       "    </tr>\n",
       "    <tr>\n",
       "      <th>2</th>\n",
       "      <td>240x4r</td>\n",
       "      <td>3</td>\n",
       "      <td>2.229954</td>\n",
       "      <td>0.705882</td>\n",
       "    </tr>\n",
       "    <tr>\n",
       "      <th>3</th>\n",
       "      <td>240x5r</td>\n",
       "      <td>4</td>\n",
       "      <td>1.881430</td>\n",
       "      <td>0.647059</td>\n",
       "    </tr>\n",
       "  </tbody>\n",
       "</table>\n",
       "</div>"
      ],
      "text/plain": [
       "        0  1  Test_Loss  Test_Accuracy\n",
       "0  240x2r  1   1.029199       0.705882\n",
       "1  240x3r  2   0.893609       0.705882\n",
       "2  240x4r  3   2.229954       0.705882\n",
       "3  240x5r  4   1.881430       0.647059"
      ]
     },
     "execution_count": 40,
     "metadata": {},
     "output_type": "execute_result"
    }
   ],
   "source": [
    "results"
   ]
  },
  {
   "cell_type": "raw",
   "metadata": {},
   "source": []
  },
  {
   "cell_type": "code",
   "execution_count": null,
   "metadata": {},
   "outputs": [],
   "source": []
  }
 ],
 "metadata": {
  "kernelspec": {
   "display_name": "Python 3",
   "language": "python",
   "name": "python3"
  },
  "language_info": {
   "codemirror_mode": {
    "name": "ipython",
    "version": 3
   },
   "file_extension": ".py",
   "mimetype": "text/x-python",
   "name": "python",
   "nbconvert_exporter": "python",
   "pygments_lexer": "ipython3",
   "version": "3.6.10"
  }
 },
 "nbformat": 4,
 "nbformat_minor": 4
}
