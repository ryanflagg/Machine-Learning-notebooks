{
 "cells": [
  {
   "cell_type": "markdown",
   "metadata": {},
   "source": [
    "<h1>Experimental notebook 1</h1><br>\n",
    "<h2> Evaluating Keras optimisers RMSprop, Adam, SGD.</h2><br>\n",
    "Keras includes a number of variants of the stochastical descent algorythm, in this book I'm going to quickly evaluate how 3 of the most popular function with my chosen dataset and a simple straight through network with 2 hidden dense layers.  I will then choose an optimiser from the results of this evaluation.\n"
   ]
  },
  {
   "cell_type": "code",
   "execution_count": null,
   "metadata": {},
   "outputs": [],
   "source": []
  },
  {
   "cell_type": "code",
   "execution_count": 1,
   "metadata": {},
   "outputs": [
    {
     "name": "stderr",
     "output_type": "stream",
     "text": [
      "C:\\Users\\Ryan\\anaconda3\\envs\\tensorflow_env\\lib\\site-packages\\tensorflow\\python\\framework\\dtypes.py:516: FutureWarning: Passing (type, 1) or '1type' as a synonym of type is deprecated; in a future version of numpy, it will be understood as (type, (1,)) / '(1,)type'.\n",
      "  _np_qint8 = np.dtype([(\"qint8\", np.int8, 1)])\n",
      "C:\\Users\\Ryan\\anaconda3\\envs\\tensorflow_env\\lib\\site-packages\\tensorflow\\python\\framework\\dtypes.py:517: FutureWarning: Passing (type, 1) or '1type' as a synonym of type is deprecated; in a future version of numpy, it will be understood as (type, (1,)) / '(1,)type'.\n",
      "  _np_quint8 = np.dtype([(\"quint8\", np.uint8, 1)])\n",
      "C:\\Users\\Ryan\\anaconda3\\envs\\tensorflow_env\\lib\\site-packages\\tensorflow\\python\\framework\\dtypes.py:518: FutureWarning: Passing (type, 1) or '1type' as a synonym of type is deprecated; in a future version of numpy, it will be understood as (type, (1,)) / '(1,)type'.\n",
      "  _np_qint16 = np.dtype([(\"qint16\", np.int16, 1)])\n",
      "C:\\Users\\Ryan\\anaconda3\\envs\\tensorflow_env\\lib\\site-packages\\tensorflow\\python\\framework\\dtypes.py:519: FutureWarning: Passing (type, 1) or '1type' as a synonym of type is deprecated; in a future version of numpy, it will be understood as (type, (1,)) / '(1,)type'.\n",
      "  _np_quint16 = np.dtype([(\"quint16\", np.uint16, 1)])\n",
      "C:\\Users\\Ryan\\anaconda3\\envs\\tensorflow_env\\lib\\site-packages\\tensorflow\\python\\framework\\dtypes.py:520: FutureWarning: Passing (type, 1) or '1type' as a synonym of type is deprecated; in a future version of numpy, it will be understood as (type, (1,)) / '(1,)type'.\n",
      "  _np_qint32 = np.dtype([(\"qint32\", np.int32, 1)])\n",
      "C:\\Users\\Ryan\\anaconda3\\envs\\tensorflow_env\\lib\\site-packages\\tensorflow\\python\\framework\\dtypes.py:525: FutureWarning: Passing (type, 1) or '1type' as a synonym of type is deprecated; in a future version of numpy, it will be understood as (type, (1,)) / '(1,)type'.\n",
      "  np_resource = np.dtype([(\"resource\", np.ubyte, 1)])\n",
      "C:\\Users\\Ryan\\anaconda3\\envs\\tensorflow_env\\lib\\site-packages\\tensorboard\\compat\\tensorflow_stub\\dtypes.py:541: FutureWarning: Passing (type, 1) or '1type' as a synonym of type is deprecated; in a future version of numpy, it will be understood as (type, (1,)) / '(1,)type'.\n",
      "  _np_qint8 = np.dtype([(\"qint8\", np.int8, 1)])\n",
      "C:\\Users\\Ryan\\anaconda3\\envs\\tensorflow_env\\lib\\site-packages\\tensorboard\\compat\\tensorflow_stub\\dtypes.py:542: FutureWarning: Passing (type, 1) or '1type' as a synonym of type is deprecated; in a future version of numpy, it will be understood as (type, (1,)) / '(1,)type'.\n",
      "  _np_quint8 = np.dtype([(\"quint8\", np.uint8, 1)])\n",
      "C:\\Users\\Ryan\\anaconda3\\envs\\tensorflow_env\\lib\\site-packages\\tensorboard\\compat\\tensorflow_stub\\dtypes.py:543: FutureWarning: Passing (type, 1) or '1type' as a synonym of type is deprecated; in a future version of numpy, it will be understood as (type, (1,)) / '(1,)type'.\n",
      "  _np_qint16 = np.dtype([(\"qint16\", np.int16, 1)])\n",
      "C:\\Users\\Ryan\\anaconda3\\envs\\tensorflow_env\\lib\\site-packages\\tensorboard\\compat\\tensorflow_stub\\dtypes.py:544: FutureWarning: Passing (type, 1) or '1type' as a synonym of type is deprecated; in a future version of numpy, it will be understood as (type, (1,)) / '(1,)type'.\n",
      "  _np_quint16 = np.dtype([(\"quint16\", np.uint16, 1)])\n",
      "C:\\Users\\Ryan\\anaconda3\\envs\\tensorflow_env\\lib\\site-packages\\tensorboard\\compat\\tensorflow_stub\\dtypes.py:545: FutureWarning: Passing (type, 1) or '1type' as a synonym of type is deprecated; in a future version of numpy, it will be understood as (type, (1,)) / '(1,)type'.\n",
      "  _np_qint32 = np.dtype([(\"qint32\", np.int32, 1)])\n",
      "C:\\Users\\Ryan\\anaconda3\\envs\\tensorflow_env\\lib\\site-packages\\tensorboard\\compat\\tensorflow_stub\\dtypes.py:550: FutureWarning: Passing (type, 1) or '1type' as a synonym of type is deprecated; in a future version of numpy, it will be understood as (type, (1,)) / '(1,)type'.\n",
      "  np_resource = np.dtype([(\"resource\", np.ubyte, 1)])\n",
      "Using TensorFlow backend.\n"
     ]
    }
   ],
   "source": [
    "import numpy as np\n",
    "import tensorflow as tf\n",
    "import os\n",
    "import csv\n",
    "import matplotlib.pyplot as plt\n",
    "from keras import models\n",
    "from keras import layers"
   ]
  },
  {
   "cell_type": "markdown",
   "metadata": {},
   "source": [
    "Imports my own package for pre-processing the data set.  I'll just need to import this and run the pre-process function"
   ]
  },
  {
   "cell_type": "code",
   "execution_count": 2,
   "metadata": {},
   "outputs": [],
   "source": [
    "import pre_process as pp"
   ]
  },
  {
   "cell_type": "code",
   "execution_count": 3,
   "metadata": {},
   "outputs": [
    {
     "data": {
      "text/plain": [
       "['__builtins__',\n",
       " '__cached__',\n",
       " '__doc__',\n",
       " '__file__',\n",
       " '__loader__',\n",
       " '__name__',\n",
       " '__package__',\n",
       " '__spec__',\n",
       " 'createLists',\n",
       " 'csv',\n",
       " 'dir',\n",
       " 'feature_MAX',\n",
       " 'np',\n",
       " 'os',\n",
       " 'pre_process',\n",
       " 'shuffle',\n",
       " 'shuffle_split',\n",
       " 'tokenise',\n",
       " 'vectorise_list']"
      ]
     },
     "execution_count": 3,
     "metadata": {},
     "output_type": "execute_result"
    }
   ],
   "source": [
    "dir(pp)"
   ]
  },
  {
   "cell_type": "code",
   "execution_count": 4,
   "metadata": {},
   "outputs": [
    {
     "name": "stdout",
     "output_type": "stream",
     "text": [
      "concatenating files\n",
      "AReMv1\\bending1\\dataset1.csv\n",
      "AReMv1\\bending1\\dataset2.csv\n",
      "AReMv1\\bending1\\dataset3.csv\n",
      "AReMv1\\bending1\\dataset4.csv\n",
      "AReMv1\\bending1\\dataset5.csv\n",
      "AReMv1\\bending1\\dataset6.csv\n",
      "AReMv1\\bending1\\dataset7.csv\n",
      "AReMv1\\bending2\\dataset1.csv\n",
      "AReMv1\\bending2\\dataset2.csv\n",
      "AReMv1\\bending2\\dataset3.csv\n",
      "AReMv1\\bending2\\dataset5.csv\n",
      "AReMv1\\bending2\\dataset6.csv\n",
      "AReMv1\\cycling\\dataset1.csv\n",
      "AReMv1\\cycling\\dataset10.csv\n",
      "AReMv1\\cycling\\dataset11.csv\n",
      "AReMv1\\cycling\\dataset12.csv\n",
      "AReMv1\\cycling\\dataset13.csv\n",
      "AReMv1\\cycling\\dataset14.csv\n",
      "AReMv1\\cycling\\dataset15.csv\n",
      "AReMv1\\cycling\\dataset2.csv\n",
      "AReMv1\\cycling\\dataset3.csv\n",
      "AReMv1\\cycling\\dataset4.csv\n",
      "AReMv1\\cycling\\dataset5.csv\n",
      "AReMv1\\cycling\\dataset6.csv\n",
      "AReMv1\\cycling\\dataset7.csv\n",
      "AReMv1\\cycling\\dataset8.csv\n",
      "AReMv1\\cycling\\dataset9.csv\n",
      "AReMv1\\lying\\dataset1.csv\n",
      "AReMv1\\lying\\dataset10.csv\n",
      "AReMv1\\lying\\dataset11.csv\n",
      "AReMv1\\lying\\dataset12.csv\n",
      "AReMv1\\lying\\dataset13.csv\n",
      "AReMv1\\lying\\dataset14.csv\n",
      "AReMv1\\lying\\dataset15.csv\n",
      "AReMv1\\lying\\dataset2.csv\n",
      "AReMv1\\lying\\dataset3.csv\n",
      "AReMv1\\lying\\dataset4.csv\n",
      "AReMv1\\lying\\dataset5.csv\n",
      "AReMv1\\lying\\dataset6.csv\n",
      "AReMv1\\lying\\dataset7.csv\n",
      "AReMv1\\lying\\dataset8.csv\n",
      "AReMv1\\lying\\dataset9.csv\n",
      "AReMv1\\sitting\\dataset1.csv\n",
      "AReMv1\\sitting\\dataset10.csv\n",
      "AReMv1\\sitting\\dataset11.csv\n",
      "AReMv1\\sitting\\dataset12.csv\n",
      "AReMv1\\sitting\\dataset13.csv\n",
      "AReMv1\\sitting\\dataset14.csv\n",
      "AReMv1\\sitting\\dataset15.csv\n",
      "AReMv1\\sitting\\dataset2.csv\n",
      "AReMv1\\sitting\\dataset3.csv\n",
      "AReMv1\\sitting\\dataset4.csv\n",
      "AReMv1\\sitting\\dataset5.csv\n",
      "AReMv1\\sitting\\dataset6.csv\n",
      "AReMv1\\sitting\\dataset7.csv\n",
      "AReMv1\\sitting\\dataset8.csv\n",
      "AReMv1\\sitting\\dataset9.csv\n",
      "AReMv1\\standing\\dataset1.csv\n",
      "AReMv1\\standing\\dataset10.csv\n",
      "AReMv1\\standing\\dataset11.csv\n",
      "AReMv1\\standing\\dataset12.csv\n",
      "AReMv1\\standing\\dataset13.csv\n",
      "AReMv1\\standing\\dataset14.csv\n",
      "AReMv1\\standing\\dataset15.csv\n",
      "AReMv1\\standing\\dataset2.csv\n",
      "AReMv1\\standing\\dataset3.csv\n",
      "AReMv1\\standing\\dataset4.csv\n",
      "AReMv1\\standing\\dataset5.csv\n",
      "AReMv1\\standing\\dataset6.csv\n",
      "AReMv1\\standing\\dataset7.csv\n",
      "AReMv1\\standing\\dataset8.csv\n",
      "AReMv1\\standing\\dataset9.csv\n",
      "AReMv1\\walking\\dataset1.csv\n",
      "AReMv1\\walking\\dataset10.csv\n",
      "AReMv1\\walking\\dataset11.csv\n",
      "AReMv1\\walking\\dataset12.csv\n",
      "AReMv1\\walking\\dataset13.csv\n",
      "AReMv1\\walking\\dataset14.csv\n",
      "AReMv1\\walking\\dataset15.csv\n",
      "AReMv1\\walking\\dataset2.csv\n",
      "AReMv1\\walking\\dataset3.csv\n",
      "AReMv1\\walking\\dataset4.csv\n",
      "AReMv1\\walking\\dataset5.csv\n",
      "AReMv1\\walking\\dataset6.csv\n",
      "AReMv1\\walking\\dataset7.csv\n",
      "AReMv1\\walking\\dataset8.csv\n",
      "AReMv1\\walking\\dataset9.csv\n",
      "Tokenising labels\n",
      "bending1 = 0\n",
      "bending1 = 0\n",
      "bending1 = 0\n",
      "bending1 = 0\n",
      "bending1 = 0\n",
      "bending1 = 0\n",
      "bending1 = 0\n",
      "bending2 = 1\n",
      "bending2 = 1\n",
      "bending2 = 1\n",
      "bending2 = 1\n",
      "bending2 = 1\n",
      "cycling = 2\n",
      "cycling = 2\n",
      "cycling = 2\n",
      "cycling = 2\n",
      "cycling = 2\n",
      "cycling = 2\n",
      "cycling = 2\n",
      "cycling = 2\n",
      "cycling = 2\n",
      "cycling = 2\n",
      "cycling = 2\n",
      "cycling = 2\n",
      "cycling = 2\n",
      "cycling = 2\n",
      "cycling = 2\n",
      "lying = 3\n",
      "lying = 3\n",
      "lying = 3\n",
      "lying = 3\n",
      "lying = 3\n",
      "lying = 3\n",
      "lying = 3\n",
      "lying = 3\n",
      "lying = 3\n",
      "lying = 3\n",
      "lying = 3\n",
      "lying = 3\n",
      "lying = 3\n",
      "lying = 3\n",
      "lying = 3\n",
      "sitting = 4\n",
      "sitting = 4\n",
      "sitting = 4\n",
      "sitting = 4\n",
      "sitting = 4\n",
      "sitting = 4\n",
      "sitting = 4\n",
      "sitting = 4\n",
      "sitting = 4\n",
      "sitting = 4\n",
      "sitting = 4\n",
      "sitting = 4\n",
      "sitting = 4\n",
      "sitting = 4\n",
      "sitting = 4\n",
      "standing = 5\n",
      "standing = 5\n",
      "standing = 5\n",
      "standing = 5\n",
      "standing = 5\n",
      "standing = 5\n",
      "standing = 5\n",
      "standing = 5\n",
      "standing = 5\n",
      "standing = 5\n",
      "standing = 5\n",
      "standing = 5\n",
      "standing = 5\n",
      "standing = 5\n",
      "standing = 5\n",
      "walking = 6\n",
      "walking = 6\n",
      "walking = 6\n",
      "walking = 6\n",
      "walking = 6\n",
      "walking = 6\n",
      "walking = 6\n",
      "walking = 6\n",
      "walking = 6\n",
      "walking = 6\n",
      "walking = 6\n",
      "walking = 6\n",
      "walking = 6\n",
      "walking = 6\n",
      "walking = 6\n",
      "data shape:\n",
      "(87, 480, 6)\n",
      "labels shape:\n",
      "(87,)\n"
     ]
    }
   ],
   "source": [
    "data, labels = pp.pre_process()"
   ]
  },
  {
   "cell_type": "markdown",
   "metadata": {},
   "source": [
    "<h2>Network 1a</h2><br>\n",
    "1st network, 2 stacked hidden layers Dense activation relu."
   ]
  },
  {
   "cell_type": "code",
   "execution_count": 66,
   "metadata": {},
   "outputs": [
    {
     "name": "stdout",
     "output_type": "stream",
     "text": [
      "Model: \"sequential_13\"\n",
      "_________________________________________________________________\n",
      "Layer (type)                 Output Shape              Param #   \n",
      "=================================================================\n",
      "dense_48 (Dense)             (None, 480, 480)          3360      \n",
      "_________________________________________________________________\n",
      "dense_49 (Dense)             (None, 480, 240)          115440    \n",
      "_________________________________________________________________\n",
      "dense_50 (Dense)             (None, 480, 120)          28920     \n",
      "_________________________________________________________________\n",
      "flatten_12 (Flatten)         (None, 57600)             0         \n",
      "_________________________________________________________________\n",
      "dense_51 (Dense)             (None, 7)                 403207    \n",
      "=================================================================\n",
      "Total params: 550,927\n",
      "Trainable params: 550,927\n",
      "Non-trainable params: 0\n",
      "_________________________________________________________________\n"
     ]
    }
   ],
   "source": [
    "net1a = models.Sequential()\n",
    "net1a.add(layers.Dense(480, input_shape = (480, 6)))    # input layer\n",
    "net1a.add(layers.Dense(240, activation = 'relu'))       # 1st hidden layer\n",
    "net1a.add(layers.Dense(120, activation = 'relu'))       # 2nd hidden layer\n",
    "net1a.add(layers.Flatten())                             # alters the dimensionality of the output to match the labels shape\n",
    "net1a.add(layers.Dense(7, activation = 'sigmoid'))         # output layer (tried relu doesn't work will use only sigmoid)\n",
    "\n",
    "net1a.summary()"
   ]
  },
  {
   "cell_type": "markdown",
   "metadata": {},
   "source": [
    "shuffle and split the dataset, using hold out validation."
   ]
  },
  {
   "cell_type": "code",
   "execution_count": 67,
   "metadata": {},
   "outputs": [],
   "source": [
    "train_data, train_labels, val_data, val_labels, test_data, test_labels = pp.shuffle_split(data, labels)"
   ]
  },
  {
   "cell_type": "code",
   "execution_count": 68,
   "metadata": {},
   "outputs": [
    {
     "name": "stdout",
     "output_type": "stream",
     "text": [
      "Train on 49 samples, validate on 19 samples\n",
      "Epoch 1/50\n",
      "49/49 [==============================] - 1s 13ms/step - loss: 2.2043 - accuracy: 0.1429 - val_loss: 2.8146 - val_accuracy: 0.0526\n",
      "Epoch 2/50\n",
      "49/49 [==============================] - 0s 5ms/step - loss: 2.2306 - accuracy: 0.0816 - val_loss: 1.8894 - val_accuracy: 0.3158\n",
      "Epoch 3/50\n",
      "49/49 [==============================] - 0s 4ms/step - loss: 1.7628 - accuracy: 0.3673 - val_loss: 2.1381 - val_accuracy: 0.2105\n",
      "Epoch 4/50\n",
      "49/49 [==============================] - 0s 4ms/step - loss: 1.8963 - accuracy: 0.3061 - val_loss: 1.9399 - val_accuracy: 0.2105\n",
      "Epoch 5/50\n",
      "49/49 [==============================] - 0s 4ms/step - loss: 1.6835 - accuracy: 0.5306 - val_loss: 1.6567 - val_accuracy: 0.5263\n",
      "Epoch 6/50\n",
      "49/49 [==============================] - 0s 5ms/step - loss: 1.4491 - accuracy: 0.5306 - val_loss: 2.5685 - val_accuracy: 0.2105\n",
      "Epoch 7/50\n",
      "49/49 [==============================] - 0s 4ms/step - loss: 2.2605 - accuracy: 0.1429 - val_loss: 1.8304 - val_accuracy: 0.1579\n",
      "Epoch 8/50\n",
      "49/49 [==============================] - 0s 4ms/step - loss: 1.4661 - accuracy: 0.5102 - val_loss: 1.8423 - val_accuracy: 0.3158\n",
      "Epoch 9/50\n",
      "49/49 [==============================] - 0s 4ms/step - loss: 1.2125 - accuracy: 0.5918 - val_loss: 1.8563 - val_accuracy: 0.0526\n",
      "Epoch 10/50\n",
      "49/49 [==============================] - 0s 4ms/step - loss: 1.3628 - accuracy: 0.4286 - val_loss: 1.4398 - val_accuracy: 0.3158\n",
      "Epoch 11/50\n",
      "49/49 [==============================] - 0s 4ms/step - loss: 0.9707 - accuracy: 0.5714 - val_loss: 1.3102 - val_accuracy: 0.4211\n",
      "Epoch 12/50\n",
      "49/49 [==============================] - 0s 4ms/step - loss: 1.0566 - accuracy: 0.4694 - val_loss: 1.7971 - val_accuracy: 0.1053\n",
      "Epoch 13/50\n",
      "49/49 [==============================] - 0s 4ms/step - loss: 0.9705 - accuracy: 0.6735 - val_loss: 1.1695 - val_accuracy: 0.3684\n",
      "Epoch 14/50\n",
      "49/49 [==============================] - 0s 4ms/step - loss: 0.5748 - accuracy: 0.8776 - val_loss: 1.9615 - val_accuracy: 0.3684\n",
      "Epoch 15/50\n",
      "49/49 [==============================] - 0s 5ms/step - loss: 1.0020 - accuracy: 0.5714 - val_loss: 1.1811 - val_accuracy: 0.4211\n",
      "Epoch 16/50\n",
      "49/49 [==============================] - 0s 4ms/step - loss: 0.5521 - accuracy: 0.7755 - val_loss: 1.3371 - val_accuracy: 0.3158\n",
      "Epoch 17/50\n",
      "49/49 [==============================] - 0s 5ms/step - loss: 0.6117 - accuracy: 0.7143 - val_loss: 2.2750 - val_accuracy: 0.1579\n",
      "Epoch 18/50\n",
      "49/49 [==============================] - 0s 4ms/step - loss: 1.5728 - accuracy: 0.3673 - val_loss: 1.2381 - val_accuracy: 0.5263\n",
      "Epoch 19/50\n",
      "49/49 [==============================] - 0s 4ms/step - loss: 0.6657 - accuracy: 0.8571 - val_loss: 1.0744 - val_accuracy: 0.6842\n",
      "Epoch 20/50\n",
      "49/49 [==============================] - 0s 4ms/step - loss: 0.3816 - accuracy: 0.8980 - val_loss: 0.9731 - val_accuracy: 0.6316\n",
      "Epoch 21/50\n",
      "49/49 [==============================] - 0s 5ms/step - loss: 0.2572 - accuracy: 0.9592 - val_loss: 1.1630 - val_accuracy: 0.4737\n",
      "Epoch 22/50\n",
      "49/49 [==============================] - 0s 5ms/step - loss: 0.2004 - accuracy: 0.9592 - val_loss: 1.4684 - val_accuracy: 0.5263\n",
      "Epoch 23/50\n",
      "49/49 [==============================] - 0s 5ms/step - loss: 0.3546 - accuracy: 0.8571 - val_loss: 2.4379 - val_accuracy: 0.3158\n",
      "Epoch 24/50\n",
      "49/49 [==============================] - 0s 5ms/step - loss: 0.5094 - accuracy: 0.7551 - val_loss: 1.0848 - val_accuracy: 0.6316\n",
      "Epoch 25/50\n",
      "49/49 [==============================] - 0s 5ms/step - loss: 0.1263 - accuracy: 1.0000 - val_loss: 0.9737 - val_accuracy: 0.5263\n",
      "Epoch 26/50\n",
      "49/49 [==============================] - 0s 4ms/step - loss: 0.0692 - accuracy: 1.0000 - val_loss: 1.0772 - val_accuracy: 0.4211\n",
      "Epoch 27/50\n",
      "49/49 [==============================] - 0s 4ms/step - loss: 0.2549 - accuracy: 0.8980 - val_loss: 2.5576 - val_accuracy: 0.3684\n",
      "Epoch 28/50\n",
      "49/49 [==============================] - 0s 5ms/step - loss: 1.1401 - accuracy: 0.6122 - val_loss: 2.1360 - val_accuracy: 0.6316\n",
      "Epoch 29/50\n",
      "49/49 [==============================] - 0s 4ms/step - loss: 0.5087 - accuracy: 0.7755 - val_loss: 0.7488 - val_accuracy: 0.7895\n",
      "Epoch 30/50\n",
      "49/49 [==============================] - 0s 4ms/step - loss: 0.0983 - accuracy: 1.0000 - val_loss: 0.7825 - val_accuracy: 0.5789\n",
      "Epoch 31/50\n",
      "49/49 [==============================] - 0s 5ms/step - loss: 0.0495 - accuracy: 1.0000 - val_loss: 0.8096 - val_accuracy: 0.6316\n",
      "Epoch 32/50\n",
      "49/49 [==============================] - 0s 4ms/step - loss: 0.0418 - accuracy: 1.0000 - val_loss: 0.8922 - val_accuracy: 0.5789\n",
      "Epoch 33/50\n",
      "49/49 [==============================] - 0s 4ms/step - loss: 0.0253 - accuracy: 1.0000 - val_loss: 0.7860 - val_accuracy: 0.6842\n",
      "Epoch 34/50\n",
      "49/49 [==============================] - 0s 5ms/step - loss: 0.0219 - accuracy: 1.0000 - val_loss: 0.7569 - val_accuracy: 0.6842\n",
      "Epoch 35/50\n",
      "49/49 [==============================] - 0s 5ms/step - loss: 0.0277 - accuracy: 1.0000 - val_loss: 0.6758 - val_accuracy: 0.7368\n",
      "Epoch 36/50\n",
      "49/49 [==============================] - 0s 5ms/step - loss: 0.0281 - accuracy: 1.0000 - val_loss: 0.8857 - val_accuracy: 0.6316\n",
      "Epoch 37/50\n",
      "49/49 [==============================] - 0s 4ms/step - loss: 0.0101 - accuracy: 1.0000 - val_loss: 0.9633 - val_accuracy: 0.6316\n",
      "Epoch 38/50\n",
      "49/49 [==============================] - 0s 5ms/step - loss: 0.0074 - accuracy: 1.0000 - val_loss: 1.0028 - val_accuracy: 0.5789\n",
      "Epoch 39/50\n",
      "49/49 [==============================] - 0s 5ms/step - loss: 0.0061 - accuracy: 1.0000 - val_loss: 0.9789 - val_accuracy: 0.7368\n",
      "Epoch 40/50\n",
      "49/49 [==============================] - 0s 4ms/step - loss: 0.0068 - accuracy: 1.0000 - val_loss: 0.9225 - val_accuracy: 0.6316\n",
      "Epoch 41/50\n",
      "49/49 [==============================] - 0s 5ms/step - loss: 0.0042 - accuracy: 1.0000 - val_loss: 1.0040 - val_accuracy: 0.6316\n",
      "Epoch 42/50\n",
      "49/49 [==============================] - 0s 4ms/step - loss: 0.0035 - accuracy: 1.0000 - val_loss: 0.8993 - val_accuracy: 0.6316\n",
      "Epoch 43/50\n",
      "49/49 [==============================] - 0s 4ms/step - loss: 0.0030 - accuracy: 1.0000 - val_loss: 1.1002 - val_accuracy: 0.6842\n",
      "Epoch 44/50\n",
      "49/49 [==============================] - 0s 4ms/step - loss: 0.0029 - accuracy: 1.0000 - val_loss: 1.1305 - val_accuracy: 0.5789\n",
      "Epoch 45/50\n",
      "49/49 [==============================] - 0s 4ms/step - loss: 0.0024 - accuracy: 1.0000 - val_loss: 1.1011 - val_accuracy: 0.5789\n",
      "Epoch 46/50\n",
      "49/49 [==============================] - 0s 5ms/step - loss: 0.0021 - accuracy: 1.0000 - val_loss: 1.0639 - val_accuracy: 0.6316\n",
      "Epoch 47/50\n",
      "49/49 [==============================] - 0s 4ms/step - loss: 0.0017 - accuracy: 1.0000 - val_loss: 1.1101 - val_accuracy: 0.7368\n",
      "Epoch 48/50\n",
      "49/49 [==============================] - 0s 4ms/step - loss: 0.0019 - accuracy: 1.0000 - val_loss: 0.9896 - val_accuracy: 0.7368\n",
      "Epoch 49/50\n",
      "49/49 [==============================] - 0s 5ms/step - loss: 0.0022 - accuracy: 1.0000 - val_loss: 1.0351 - val_accuracy: 0.7368\n",
      "Epoch 50/50\n",
      "49/49 [==============================] - 0s 4ms/step - loss: 0.0012 - accuracy: 1.0000 - val_loss: 0.9707 - val_accuracy: 0.6316\n"
     ]
    }
   ],
   "source": [
    "net1a.compile(optimizer = 'rmsprop', loss = 'sparse_categorical_crossentropy', metrics = ['accuracy'])\n",
    "history = net1a.fit(train_data, train_labels, epochs = 50, validation_data = (val_data, val_labels))"
   ]
  },
  {
   "cell_type": "code",
   "execution_count": 69,
   "metadata": {},
   "outputs": [],
   "source": [
    "history_dict = history.history\n"
   ]
  },
  {
   "cell_type": "code",
   "execution_count": 70,
   "metadata": {},
   "outputs": [
    {
     "data": {
      "image/png": "[encoded data removed]",
      "text/plain": [
       "<Figure size 432x288 with 1 Axes>"
      ]
     },
     "metadata": {
      "needs_background": "light"
     },
     "output_type": "display_data"
    }
   ],
   "source": [
    "plt.plot(history.history['loss'])\n",
    "plt.plot(history.history['val_loss'])\n",
    "plt.ylabel('loss')\n",
    "plt.xlabel('Epoch')\n",
    "plt.legend(['loss','validation loss'], loc='upper right')\n",
    "plt.show()"
   ]
  },
  {
   "cell_type": "code",
   "execution_count": 71,
   "metadata": {},
   "outputs": [
    {
     "data": {
      "image/png": "[encoded data removed]",
      "text/plain": [
       "<Figure size 432x288 with 1 Axes>"
      ]
     },
     "metadata": {
      "needs_background": "light"
     },
     "output_type": "display_data"
    }
   ],
   "source": [
    "plt.plot(history.history['accuracy'])\n",
    "plt.plot(history.history['val_accuracy'])\n",
    "plt.ylabel('accuracy')\n",
    "plt.xlabel('epoch')\n",
    "plt.legend(['Accuracy','Validation'], loc='upper right')\n",
    "plt.show()"
   ]
  },
  {
   "cell_type": "markdown",
   "metadata": {},
   "source": [
    "RMSprop seems a little eratic looking at the results of the accuracy and loss in the charts.  The loss and accuracy values seem to fluctuate wildly after each epoch. maybe this is not the best function."
   ]
  },
  {
   "cell_type": "markdown",
   "metadata": {},
   "source": [
    "<h2>Network 1b</h2><br>\n",
    "\n",
    "1st network, 2 stacked hidden layers Dense activation relu. changed the optimiser to 'adam'"
   ]
  },
  {
   "cell_type": "code",
   "execution_count": 72,
   "metadata": {},
   "outputs": [
    {
     "name": "stdout",
     "output_type": "stream",
     "text": [
      "Model: \"sequential_14\"\n",
      "_________________________________________________________________\n",
      "Layer (type)                 Output Shape              Param #   \n",
      "=================================================================\n",
      "dense_52 (Dense)             (None, 480, 480)          3360      \n",
      "_________________________________________________________________\n",
      "dense_53 (Dense)             (None, 480, 240)          115440    \n",
      "_________________________________________________________________\n",
      "dense_54 (Dense)             (None, 480, 120)          28920     \n",
      "_________________________________________________________________\n",
      "flatten_13 (Flatten)         (None, 57600)             0         \n",
      "_________________________________________________________________\n",
      "dense_55 (Dense)             (None, 7)                 403207    \n",
      "=================================================================\n",
      "Total params: 550,927\n",
      "Trainable params: 550,927\n",
      "Non-trainable params: 0\n",
      "_________________________________________________________________\n"
     ]
    }
   ],
   "source": [
    "net1b = models.Sequential()\n",
    "net1b.add(layers.Dense(480, input_shape = (480, 6)))    # input layer\n",
    "net1b.add(layers.Dense(240, activation = 'relu'))       # 1st hidden layer\n",
    "net1b.add(layers.Dense(120, activation = 'relu'))       # 2nd hidden layer\n",
    "net1b.add(layers.Flatten())                             # alters the dimensionality of the output to match the labels shape\n",
    "net1b.add(layers.Dense(7, activation = 'sigmoid'))         # output layer (tried relu doesn't work will use only sigmoid)\n",
    "\n",
    "net1b.summary()"
   ]
  },
  {
   "cell_type": "code",
   "execution_count": 73,
   "metadata": {},
   "outputs": [],
   "source": [
    "train_data, train_labels, val_data, val_labels, test_data, test_labels = pp.shuffle_split(data, labels)"
   ]
  },
  {
   "cell_type": "code",
   "execution_count": 74,
   "metadata": {},
   "outputs": [
    {
     "name": "stdout",
     "output_type": "stream",
     "text": [
      "Train on 49 samples, validate on 19 samples\n",
      "Epoch 1/50\n",
      "49/49 [==============================] - 1s 14ms/step - loss: 1.9869 - accuracy: 0.0816 - val_loss: 1.8592 - val_accuracy: 0.1579\n",
      "Epoch 2/50\n",
      "49/49 [==============================] - 0s 5ms/step - loss: 1.8552 - accuracy: 0.2041 - val_loss: 1.8015 - val_accuracy: 0.1579\n",
      "Epoch 3/50\n",
      "49/49 [==============================] - 0s 4ms/step - loss: 1.8062 - accuracy: 0.2041 - val_loss: 1.7214 - val_accuracy: 0.1579\n",
      "Epoch 4/50\n",
      "49/49 [==============================] - 0s 5ms/step - loss: 1.7172 - accuracy: 0.2449 - val_loss: 1.6030 - val_accuracy: 0.2632\n",
      "Epoch 5/50\n",
      "49/49 [==============================] - 0s 5ms/step - loss: 1.5585 - accuracy: 0.4082 - val_loss: 1.4394 - val_accuracy: 0.2632\n",
      "Epoch 6/50\n",
      "49/49 [==============================] - 0s 4ms/step - loss: 1.3841 - accuracy: 0.4082 - val_loss: 1.2676 - val_accuracy: 0.4737\n",
      "Epoch 7/50\n",
      "49/49 [==============================] - 0s 4ms/step - loss: 1.2086 - accuracy: 0.5306 - val_loss: 1.1268 - val_accuracy: 0.5263\n",
      "Epoch 8/50\n",
      "49/49 [==============================] - 0s 5ms/step - loss: 1.0304 - accuracy: 0.5714 - val_loss: 1.1367 - val_accuracy: 0.4737\n",
      "Epoch 9/50\n",
      "49/49 [==============================] - 0s 4ms/step - loss: 0.9024 - accuracy: 0.6735 - val_loss: 1.0947 - val_accuracy: 0.4737\n",
      "Epoch 10/50\n",
      "49/49 [==============================] - 0s 5ms/step - loss: 0.7798 - accuracy: 0.7347 - val_loss: 0.9859 - val_accuracy: 0.4737\n",
      "Epoch 11/50\n",
      "49/49 [==============================] - 0s 5ms/step - loss: 0.6639 - accuracy: 0.8776 - val_loss: 1.0850 - val_accuracy: 0.4737\n",
      "Epoch 12/50\n",
      "49/49 [==============================] - 0s 5ms/step - loss: 0.6042 - accuracy: 0.7551 - val_loss: 0.8821 - val_accuracy: 0.7368\n",
      "Epoch 13/50\n",
      "49/49 [==============================] - 0s 5ms/step - loss: 0.4331 - accuracy: 0.8980 - val_loss: 1.0263 - val_accuracy: 0.6842\n",
      "Epoch 14/50\n",
      "49/49 [==============================] - 0s 4ms/step - loss: 0.3743 - accuracy: 0.8776 - val_loss: 0.9948 - val_accuracy: 0.6316\n",
      "Epoch 15/50\n",
      "49/49 [==============================] - 0s 5ms/step - loss: 0.2843 - accuracy: 0.9184 - val_loss: 0.9427 - val_accuracy: 0.7368\n",
      "Epoch 16/50\n",
      "49/49 [==============================] - 0s 4ms/step - loss: 0.2449 - accuracy: 0.9592 - val_loss: 0.9841 - val_accuracy: 0.7368\n",
      "Epoch 17/50\n",
      "49/49 [==============================] - 0s 4ms/step - loss: 0.2370 - accuracy: 0.9592 - val_loss: 1.0922 - val_accuracy: 0.6842\n",
      "Epoch 18/50\n",
      "49/49 [==============================] - 0s 4ms/step - loss: 0.2446 - accuracy: 0.9184 - val_loss: 1.0074 - val_accuracy: 0.7895\n",
      "Epoch 19/50\n",
      "49/49 [==============================] - 0s 5ms/step - loss: 0.1804 - accuracy: 0.9388 - val_loss: 1.1309 - val_accuracy: 0.6316\n",
      "Epoch 20/50\n",
      "49/49 [==============================] - 0s 4ms/step - loss: 0.1637 - accuracy: 0.9592 - val_loss: 1.2802 - val_accuracy: 0.6316\n",
      "Epoch 21/50\n",
      "49/49 [==============================] - 0s 5ms/step - loss: 0.1977 - accuracy: 0.8980 - val_loss: 1.0889 - val_accuracy: 0.6316\n",
      "Epoch 22/50\n",
      "49/49 [==============================] - 0s 4ms/step - loss: 0.1488 - accuracy: 0.9388 - val_loss: 1.0542 - val_accuracy: 0.7368\n",
      "Epoch 23/50\n",
      "49/49 [==============================] - 0s 4ms/step - loss: 0.0730 - accuracy: 1.0000 - val_loss: 1.1541 - val_accuracy: 0.6316\n",
      "Epoch 24/50\n",
      "49/49 [==============================] - 0s 4ms/step - loss: 0.0945 - accuracy: 0.9796 - val_loss: 1.0360 - val_accuracy: 0.6842\n",
      "Epoch 25/50\n",
      "49/49 [==============================] - 0s 5ms/step - loss: 0.0374 - accuracy: 1.0000 - val_loss: 1.0692 - val_accuracy: 0.6842\n",
      "Epoch 26/50\n",
      "49/49 [==============================] - 0s 4ms/step - loss: 0.0582 - accuracy: 1.0000 - val_loss: 1.0224 - val_accuracy: 0.7368\n",
      "Epoch 27/50\n",
      "49/49 [==============================] - 0s 5ms/step - loss: 0.0248 - accuracy: 1.0000 - val_loss: 1.0947 - val_accuracy: 0.6842\n",
      "Epoch 28/50\n",
      "49/49 [==============================] - 0s 5ms/step - loss: 0.0404 - accuracy: 1.0000 - val_loss: 1.1199 - val_accuracy: 0.6842\n",
      "Epoch 29/50\n",
      "49/49 [==============================] - 0s 5ms/step - loss: 0.0317 - accuracy: 1.0000 - val_loss: 1.0341 - val_accuracy: 0.6316\n",
      "Epoch 30/50\n",
      "49/49 [==============================] - 0s 4ms/step - loss: 0.0144 - accuracy: 1.0000 - val_loss: 1.0706 - val_accuracy: 0.6316\n",
      "Epoch 31/50\n",
      "49/49 [==============================] - 0s 5ms/step - loss: 0.0284 - accuracy: 1.0000 - val_loss: 1.0182 - val_accuracy: 0.7368\n",
      "Epoch 32/50\n",
      "49/49 [==============================] - 0s 5ms/step - loss: 0.0163 - accuracy: 1.0000 - val_loss: 0.9661 - val_accuracy: 0.6842\n",
      "Epoch 33/50\n",
      "49/49 [==============================] - 0s 5ms/step - loss: 0.0090 - accuracy: 1.0000 - val_loss: 1.0161 - val_accuracy: 0.6842\n",
      "Epoch 34/50\n",
      "49/49 [==============================] - 0s 5ms/step - loss: 0.0127 - accuracy: 1.0000 - val_loss: 1.0559 - val_accuracy: 0.6842\n",
      "Epoch 35/50\n",
      "49/49 [==============================] - 0s 4ms/step - loss: 0.0153 - accuracy: 1.0000 - val_loss: 1.0406 - val_accuracy: 0.6842\n",
      "Epoch 36/50\n",
      "49/49 [==============================] - 0s 5ms/step - loss: 0.0084 - accuracy: 1.0000 - val_loss: 1.0372 - val_accuracy: 0.6316\n",
      "Epoch 37/50\n",
      "49/49 [==============================] - 0s 4ms/step - loss: 0.0061 - accuracy: 1.0000 - val_loss: 1.0470 - val_accuracy: 0.6842\n",
      "Epoch 38/50\n",
      "49/49 [==============================] - 0s 4ms/step - loss: 0.0061 - accuracy: 1.0000 - val_loss: 1.0549 - val_accuracy: 0.6842\n",
      "Epoch 39/50\n",
      "49/49 [==============================] - 0s 4ms/step - loss: 0.0068 - accuracy: 1.0000 - val_loss: 1.0447 - val_accuracy: 0.6842\n",
      "Epoch 40/50\n",
      "49/49 [==============================] - 0s 5ms/step - loss: 0.0064 - accuracy: 1.0000 - val_loss: 1.0272 - val_accuracy: 0.6842\n",
      "Epoch 41/50\n",
      "49/49 [==============================] - 0s 4ms/step - loss: 0.0051 - accuracy: 1.0000 - val_loss: 1.0176 - val_accuracy: 0.6842\n",
      "Epoch 42/50\n",
      "49/49 [==============================] - 0s 4ms/step - loss: 0.0042 - accuracy: 1.0000 - val_loss: 1.0215 - val_accuracy: 0.6842\n",
      "Epoch 43/50\n",
      "49/49 [==============================] - 0s 4ms/step - loss: 0.0039 - accuracy: 1.0000 - val_loss: 1.0307 - val_accuracy: 0.6842\n",
      "Epoch 44/50\n",
      "49/49 [==============================] - 0s 4ms/step - loss: 0.0038 - accuracy: 1.0000 - val_loss: 1.0412 - val_accuracy: 0.6842\n",
      "Epoch 45/50\n",
      "49/49 [==============================] - 0s 5ms/step - loss: 0.0038 - accuracy: 1.0000 - val_loss: 1.0515 - val_accuracy: 0.6842\n",
      "Epoch 46/50\n",
      "49/49 [==============================] - 0s 4ms/step - loss: 0.0036 - accuracy: 1.0000 - val_loss: 1.0565 - val_accuracy: 0.6842\n",
      "Epoch 47/50\n",
      "49/49 [==============================] - 0s 5ms/step - loss: 0.0034 - accuracy: 1.0000 - val_loss: 1.0616 - val_accuracy: 0.6842\n",
      "Epoch 48/50\n",
      "49/49 [==============================] - 0s 5ms/step - loss: 0.0031 - accuracy: 1.0000 - val_loss: 1.0662 - val_accuracy: 0.6316\n",
      "Epoch 49/50\n",
      "49/49 [==============================] - 0s 5ms/step - loss: 0.0030 - accuracy: 1.0000 - val_loss: 1.0667 - val_accuracy: 0.6316\n",
      "Epoch 50/50\n",
      "49/49 [==============================] - 0s 4ms/step - loss: 0.0029 - accuracy: 1.0000 - val_loss: 1.0659 - val_accuracy: 0.6316\n"
     ]
    }
   ],
   "source": [
    "net1b.compile(optimizer = 'adam', loss = 'sparse_categorical_crossentropy', metrics = ['accuracy'])\n",
    "history1b = net1b.fit(train_data, train_labels, epochs = 50, validation_data = (val_data, val_labels))"
   ]
  },
  {
   "cell_type": "code",
   "execution_count": 75,
   "metadata": {},
   "outputs": [],
   "source": [
    "history_dict1b = history1b.history"
   ]
  },
  {
   "cell_type": "code",
   "execution_count": 76,
   "metadata": {},
   "outputs": [
    {
     "data": {
      "image/png": "[encoded data removed]",
      "text/plain": [
       "<Figure size 432x288 with 1 Axes>"
      ]
     },
     "metadata": {
      "needs_background": "light"
     },
     "output_type": "display_data"
    }
   ],
   "source": [
    "plt.plot(history1b.history['loss'])\n",
    "plt.plot(history1b.history['val_loss'])\n",
    "plt.ylabel('loss')\n",
    "plt.xlabel('Epoch')\n",
    "plt.legend(['loss','validation loss'], loc='upper right')\n",
    "plt.show()"
   ]
  },
  {
   "cell_type": "code",
   "execution_count": 77,
   "metadata": {},
   "outputs": [
    {
     "data": {
      "image/png": "[encoded data removed]",
      "text/plain": [
       "<Figure size 432x288 with 1 Axes>"
      ]
     },
     "metadata": {
      "needs_background": "light"
     },
     "output_type": "display_data"
    }
   ],
   "source": [
    "plt.plot(history1b.history['accuracy'])\n",
    "plt.plot(history1b.history['val_accuracy'])\n",
    "plt.ylabel('accuracy')\n",
    "plt.xlabel('epoch')\n",
    "plt.legend(['Accuracy','Validation'], loc='upper right')\n",
    "plt.show()"
   ]
  },
  {
   "cell_type": "markdown",
   "metadata": {},
   "source": [
    "with the adam optimiser the validation loss and accuracy seem much more stable you can even see where the model begins to overfit at around 10 epochs.  If I choose the adam optmiser I will use 10 epochs for each cycle."
   ]
  },
  {
   "cell_type": "markdown",
   "metadata": {},
   "source": [
    "<h2> Network 1c</h2><br>\n",
    "sgd optimizer"
   ]
  },
  {
   "cell_type": "code",
   "execution_count": 78,
   "metadata": {},
   "outputs": [
    {
     "name": "stdout",
     "output_type": "stream",
     "text": [
      "Model: \"sequential_15\"\n",
      "_________________________________________________________________\n",
      "Layer (type)                 Output Shape              Param #   \n",
      "=================================================================\n",
      "dense_56 (Dense)             (None, 480, 480)          3360      \n",
      "_________________________________________________________________\n",
      "dense_57 (Dense)             (None, 480, 240)          115440    \n",
      "_________________________________________________________________\n",
      "dense_58 (Dense)             (None, 480, 120)          28920     \n",
      "_________________________________________________________________\n",
      "flatten_14 (Flatten)         (None, 57600)             0         \n",
      "_________________________________________________________________\n",
      "dense_59 (Dense)             (None, 7)                 403207    \n",
      "=================================================================\n",
      "Total params: 550,927\n",
      "Trainable params: 550,927\n",
      "Non-trainable params: 0\n",
      "_________________________________________________________________\n"
     ]
    }
   ],
   "source": [
    "net1c = models.Sequential()\n",
    "net1c.add(layers.Dense(480, input_shape = (480, 6)))    # input layer\n",
    "net1c.add(layers.Dense(240, activation = 'relu'))       # 1st hidden layer\n",
    "net1c.add(layers.Dense(120, activation = 'relu'))       # 2nd hidden layer\n",
    "net1c.add(layers.Flatten())                             # alters the dimensionality of the output to match the labels shape\n",
    "net1c.add(layers.Dense(7, activation = 'sigmoid'))         # output layer (tried relu doesn't work will use only sigmoid)\n",
    "\n",
    "net1c.summary()"
   ]
  },
  {
   "cell_type": "code",
   "execution_count": 79,
   "metadata": {},
   "outputs": [],
   "source": [
    "train_data, train_labels, val_data, val_labels, test_data, test_labels = pp.shuffle_split(data, labels)"
   ]
  },
  {
   "cell_type": "code",
   "execution_count": 80,
   "metadata": {},
   "outputs": [
    {
     "name": "stdout",
     "output_type": "stream",
     "text": [
      "Train on 49 samples, validate on 19 samples\n",
      "Epoch 1/50\n",
      "49/49 [==============================] - 1s 12ms/step - loss: 1.9489 - accuracy: 0.1020 - val_loss: 1.9450 - val_accuracy: 0.0526\n",
      "Epoch 2/50\n",
      "49/49 [==============================] - 0s 4ms/step - loss: 1.9433 - accuracy: 0.1020 - val_loss: 1.9439 - val_accuracy: 0.0526\n",
      "Epoch 3/50\n",
      "49/49 [==============================] - 0s 4ms/step - loss: 1.9345 - accuracy: 0.2041 - val_loss: 1.9383 - val_accuracy: 0.0526\n",
      "Epoch 4/50\n",
      "49/49 [==============================] - 0s 4ms/step - loss: 1.9302 - accuracy: 0.2041 - val_loss: 1.9341 - val_accuracy: 0.0526\n",
      "Epoch 5/50\n",
      "49/49 [==============================] - 0s 5ms/step - loss: 1.9232 - accuracy: 0.2041 - val_loss: 1.9298 - val_accuracy: 0.0526\n",
      "Epoch 6/50\n",
      "49/49 [==============================] - 0s 5ms/step - loss: 1.9159 - accuracy: 0.2041 - val_loss: 1.9257 - val_accuracy: 0.0526\n",
      "Epoch 7/50\n",
      "49/49 [==============================] - 0s 6ms/step - loss: 1.9112 - accuracy: 0.2041 - val_loss: 1.9229 - val_accuracy: 0.0526\n",
      "Epoch 8/50\n",
      "49/49 [==============================] - 0s 4ms/step - loss: 1.9050 - accuracy: 0.2041 - val_loss: 1.9208 - val_accuracy: 0.0526\n",
      "Epoch 9/50\n",
      "49/49 [==============================] - 0s 4ms/step - loss: 1.8998 - accuracy: 0.2041 - val_loss: 1.9169 - val_accuracy: 0.0526\n",
      "Epoch 10/50\n",
      "49/49 [==============================] - 0s 4ms/step - loss: 1.8937 - accuracy: 0.2041 - val_loss: 1.9123 - val_accuracy: 0.0526\n",
      "Epoch 11/50\n",
      "49/49 [==============================] - 0s 5ms/step - loss: 1.8881 - accuracy: 0.2041 - val_loss: 1.9101 - val_accuracy: 0.0526\n",
      "Epoch 12/50\n",
      "49/49 [==============================] - 0s 4ms/step - loss: 1.8850 - accuracy: 0.2041 - val_loss: 1.9068 - val_accuracy: 0.0526\n",
      "Epoch 13/50\n",
      "49/49 [==============================] - 0s 4ms/step - loss: 1.8813 - accuracy: 0.2041 - val_loss: 1.9024 - val_accuracy: 0.0526\n",
      "Epoch 14/50\n",
      "49/49 [==============================] - 0s 5ms/step - loss: 1.8756 - accuracy: 0.2041 - val_loss: 1.9016 - val_accuracy: 0.0526\n",
      "Epoch 15/50\n",
      "49/49 [==============================] - 0s 4ms/step - loss: 1.8737 - accuracy: 0.2041 - val_loss: 1.8986 - val_accuracy: 0.0526\n",
      "Epoch 16/50\n",
      "49/49 [==============================] - 0s 5ms/step - loss: 1.8686 - accuracy: 0.2041 - val_loss: 1.8961 - val_accuracy: 0.0526\n",
      "Epoch 17/50\n",
      "49/49 [==============================] - 0s 5ms/step - loss: 1.8660 - accuracy: 0.2041 - val_loss: 1.8940 - val_accuracy: 0.0526\n",
      "Epoch 18/50\n",
      "49/49 [==============================] - 0s 4ms/step - loss: 1.8630 - accuracy: 0.2041 - val_loss: 1.8925 - val_accuracy: 0.0526\n",
      "Epoch 19/50\n",
      "49/49 [==============================] - 0s 4ms/step - loss: 1.8618 - accuracy: 0.2041 - val_loss: 1.8914 - val_accuracy: 0.0526\n",
      "Epoch 20/50\n",
      "49/49 [==============================] - 0s 4ms/step - loss: 1.8599 - accuracy: 0.2041 - val_loss: 1.8892 - val_accuracy: 0.0526\n",
      "Epoch 21/50\n",
      "49/49 [==============================] - 0s 5ms/step - loss: 1.8582 - accuracy: 0.2041 - val_loss: 1.8872 - val_accuracy: 0.0526\n",
      "Epoch 22/50\n",
      "49/49 [==============================] - 0s 4ms/step - loss: 1.8544 - accuracy: 0.2041 - val_loss: 1.8879 - val_accuracy: 0.0526\n",
      "Epoch 23/50\n",
      "49/49 [==============================] - 0s 4ms/step - loss: 1.8527 - accuracy: 0.2041 - val_loss: 1.8884 - val_accuracy: 0.0526\n",
      "Epoch 24/50\n",
      "49/49 [==============================] - 0s 4ms/step - loss: 1.8510 - accuracy: 0.2041 - val_loss: 1.8868 - val_accuracy: 0.0526\n",
      "Epoch 25/50\n",
      "49/49 [==============================] - 0s 5ms/step - loss: 1.8502 - accuracy: 0.2041 - val_loss: 1.8851 - val_accuracy: 0.0526\n",
      "Epoch 26/50\n",
      "49/49 [==============================] - 0s 4ms/step - loss: 1.8483 - accuracy: 0.2041 - val_loss: 1.8841 - val_accuracy: 0.0526\n",
      "Epoch 27/50\n",
      "49/49 [==============================] - 0s 4ms/step - loss: 1.8464 - accuracy: 0.2041 - val_loss: 1.8831 - val_accuracy: 0.0526\n",
      "Epoch 28/50\n",
      "49/49 [==============================] - 0s 5ms/step - loss: 1.8433 - accuracy: 0.2041 - val_loss: 1.8838 - val_accuracy: 0.0526\n",
      "Epoch 29/50\n",
      "49/49 [==============================] - 0s 4ms/step - loss: 1.8411 - accuracy: 0.2041 - val_loss: 1.8818 - val_accuracy: 0.0526\n",
      "Epoch 30/50\n",
      "49/49 [==============================] - 0s 4ms/step - loss: 1.8397 - accuracy: 0.2041 - val_loss: 1.8819 - val_accuracy: 0.0526\n",
      "Epoch 31/50\n",
      "49/49 [==============================] - 0s 5ms/step - loss: 1.8388 - accuracy: 0.2041 - val_loss: 1.8815 - val_accuracy: 0.0526\n",
      "Epoch 32/50\n",
      "49/49 [==============================] - 0s 5ms/step - loss: 1.8352 - accuracy: 0.2041 - val_loss: 1.8805 - val_accuracy: 0.0526\n",
      "Epoch 33/50\n",
      "49/49 [==============================] - 0s 5ms/step - loss: 1.8356 - accuracy: 0.2041 - val_loss: 1.8781 - val_accuracy: 0.0526\n",
      "Epoch 34/50\n",
      "49/49 [==============================] - 0s 5ms/step - loss: 1.8313 - accuracy: 0.2041 - val_loss: 1.8762 - val_accuracy: 0.0526\n",
      "Epoch 35/50\n",
      "49/49 [==============================] - 0s 4ms/step - loss: 1.8303 - accuracy: 0.2041 - val_loss: 1.8741 - val_accuracy: 0.0526\n",
      "Epoch 36/50\n",
      "49/49 [==============================] - 0s 4ms/step - loss: 1.8265 - accuracy: 0.2041 - val_loss: 1.8724 - val_accuracy: 0.0526\n",
      "Epoch 37/50\n",
      "49/49 [==============================] - 0s 4ms/step - loss: 1.8269 - accuracy: 0.2041 - val_loss: 1.8702 - val_accuracy: 0.0526\n",
      "Epoch 38/50\n",
      "49/49 [==============================] - 0s 4ms/step - loss: 1.8227 - accuracy: 0.2041 - val_loss: 1.8677 - val_accuracy: 0.0526\n",
      "Epoch 39/50\n",
      "49/49 [==============================] - 0s 4ms/step - loss: 1.8193 - accuracy: 0.2041 - val_loss: 1.8654 - val_accuracy: 0.0526\n",
      "Epoch 40/50\n",
      "49/49 [==============================] - 0s 4ms/step - loss: 1.8187 - accuracy: 0.2041 - val_loss: 1.8645 - val_accuracy: 0.0526\n",
      "Epoch 41/50\n",
      "49/49 [==============================] - 0s 5ms/step - loss: 1.8151 - accuracy: 0.2041 - val_loss: 1.8613 - val_accuracy: 0.0526\n",
      "Epoch 42/50\n",
      "49/49 [==============================] - 0s 4ms/step - loss: 1.8149 - accuracy: 0.2041 - val_loss: 1.8583 - val_accuracy: 0.0526\n",
      "Epoch 43/50\n",
      "49/49 [==============================] - 0s 5ms/step - loss: 1.8100 - accuracy: 0.2041 - val_loss: 1.8545 - val_accuracy: 0.0526\n",
      "Epoch 44/50\n",
      "49/49 [==============================] - 0s 4ms/step - loss: 1.8076 - accuracy: 0.2041 - val_loss: 1.8504 - val_accuracy: 0.0526\n",
      "Epoch 45/50\n",
      "49/49 [==============================] - 0s 4ms/step - loss: 1.8061 - accuracy: 0.2041 - val_loss: 1.8452 - val_accuracy: 0.0526\n",
      "Epoch 46/50\n",
      "49/49 [==============================] - 0s 5ms/step - loss: 1.8018 - accuracy: 0.2041 - val_loss: 1.8443 - val_accuracy: 0.0526\n",
      "Epoch 47/50\n",
      "49/49 [==============================] - 0s 4ms/step - loss: 1.8003 - accuracy: 0.2041 - val_loss: 1.8412 - val_accuracy: 0.0526\n",
      "Epoch 48/50\n",
      "49/49 [==============================] - 0s 5ms/step - loss: 1.7951 - accuracy: 0.2041 - val_loss: 1.8379 - val_accuracy: 0.0526\n",
      "Epoch 49/50\n",
      "49/49 [==============================] - 0s 4ms/step - loss: 1.7928 - accuracy: 0.2041 - val_loss: 1.8350 - val_accuracy: 0.0526\n",
      "Epoch 50/50\n",
      "49/49 [==============================] - 0s 4ms/step - loss: 1.7915 - accuracy: 0.2041 - val_loss: 1.8326 - val_accuracy: 0.0526\n"
     ]
    }
   ],
   "source": [
    "net1c.compile(optimizer = 'sgd', loss = 'sparse_categorical_crossentropy', metrics = ['accuracy'])\n",
    "history1c = net1c.fit(train_data, train_labels, epochs = 50, validation_data = (val_data, val_labels))"
   ]
  },
  {
   "cell_type": "code",
   "execution_count": 81,
   "metadata": {},
   "outputs": [],
   "source": [
    "history_dict1c = history1c.history"
   ]
  },
  {
   "cell_type": "code",
   "execution_count": 82,
   "metadata": {},
   "outputs": [
    {
     "data": {
      "image/png": "[encoded data removed]",
      "text/plain": [
       "<Figure size 432x288 with 1 Axes>"
      ]
     },
     "metadata": {
      "needs_background": "light"
     },
     "output_type": "display_data"
    }
   ],
   "source": [
    "plt.plot(history1c.history['loss'])\n",
    "plt.plot(history1c.history['val_loss'])\n",
    "plt.ylabel('loss')\n",
    "plt.xlabel('Epoch')\n",
    "plt.legend(['loss','validation loss'], loc='upper right')\n",
    "plt.show()"
   ]
  },
  {
   "cell_type": "code",
   "execution_count": 83,
   "metadata": {},
   "outputs": [
    {
     "data": {
      "image/png": "[encoded data removed]",
      "text/plain": [
       "<Figure size 432x288 with 1 Axes>"
      ]
     },
     "metadata": {
      "needs_background": "light"
     },
     "output_type": "display_data"
    }
   ],
   "source": [
    "plt.plot(history1c.history['accuracy'])\n",
    "plt.plot(history1c.history['val_accuracy'])\n",
    "plt.ylabel('accuracy')\n",
    "plt.xlabel('epoch')\n",
    "plt.legend(['Accuracy','Validation'], loc='upper right')\n",
    "plt.show()"
   ]
  },
  {
   "cell_type": "markdown",
   "metadata": {},
   "source": [
    "With the sgd optimiser, the loss values seem to decrease at a steady rate but there is no improvement in the accuracy."
   ]
  },
  {
   "cell_type": "code",
   "execution_count": null,
   "metadata": {},
   "outputs": [],
   "source": []
  }
 ],
 "metadata": {
  "kernelspec": {
   "display_name": "Python 3",
   "language": "python",
   "name": "python3"
  },
  "language_info": {
   "codemirror_mode": {
    "name": "ipython",
    "version": 3
   },
   "file_extension": ".py",
   "mimetype": "text/x-python",
   "name": "python",
   "nbconvert_exporter": "python",
   "pygments_lexer": "ipython3",
   "version": "3.6.10"
  }
 },
 "nbformat": 4,
 "nbformat_minor": 4
}
